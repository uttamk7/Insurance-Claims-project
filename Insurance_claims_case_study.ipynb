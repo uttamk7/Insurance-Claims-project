{
 "cells": [
  {
   "cell_type": "markdown",
   "id": "cf0db98b-6c11-4c00-8725-965e943a48d7",
   "metadata": {},
   "source": [
    "# WELCOME TO DATA EXPLORATORY ANALYSIS AND HYPOTHESIS TESTING FOR\n",
    "#              INSURANCE CLAIMS DATA (CASE STUDY)"
   ]
  },
  {
   "cell_type": "markdown",
   "id": "3e47be61-3b2c-4b6f-b97b-97af3db24bb4",
   "metadata": {},
   "source": [
    "### 1. Import claims_data.csv and cust_data.csv which is provided to you and combine the two datasets appropriately to create a 360-degree view of the data. Use the same for the subsequent questions.\n"
   ]
  },
  {
   "cell_type": "code",
   "execution_count": 94,
   "id": "36c840a2-cc7b-4b40-ab83-7063c3b752c5",
   "metadata": {},
   "outputs": [],
   "source": [
    "import pandas as pd\n",
    "import numpy as np\n",
    "import matplotlib.pyplot as plt\n",
    "%matplotlib inline\n",
    "claimsdata=pd.read_csv('claims.csv')\n",
    "customer=pd.read_csv('cust_demographics.csv')\n"
   ]
  },
  {
   "cell_type": "code",
   "execution_count": 95,
   "id": "66137c80-e914-47e4-a40f-92e12e669d05",
   "metadata": {},
   "outputs": [
    {
     "data": {
      "text/html": [
       "<div>\n",
       "<style scoped>\n",
       "    .dataframe tbody tr th:only-of-type {\n",
       "        vertical-align: middle;\n",
       "    }\n",
       "\n",
       "    .dataframe tbody tr th {\n",
       "        vertical-align: top;\n",
       "    }\n",
       "\n",
       "    .dataframe thead th {\n",
       "        text-align: right;\n",
       "    }\n",
       "</style>\n",
       "<table border=\"1\" class=\"dataframe\">\n",
       "  <thead>\n",
       "    <tr style=\"text-align: right;\">\n",
       "      <th></th>\n",
       "      <th>CUST_ID</th>\n",
       "      <th>gender</th>\n",
       "      <th>DateOfBirth</th>\n",
       "      <th>State</th>\n",
       "      <th>Contact</th>\n",
       "      <th>Segment</th>\n",
       "      <th>claim_id</th>\n",
       "      <th>customer_id</th>\n",
       "      <th>incident_cause</th>\n",
       "      <th>claim_date</th>\n",
       "      <th>claim_area</th>\n",
       "      <th>police_report</th>\n",
       "      <th>claim_type</th>\n",
       "      <th>claim_amount</th>\n",
       "      <th>total_policy_claims</th>\n",
       "      <th>fraudulent</th>\n",
       "    </tr>\n",
       "  </thead>\n",
       "  <tbody>\n",
       "    <tr>\n",
       "      <th>0</th>\n",
       "      <td>21868593</td>\n",
       "      <td>Female</td>\n",
       "      <td>12-Jan-79</td>\n",
       "      <td>VT</td>\n",
       "      <td>789-916-8172</td>\n",
       "      <td>Platinum</td>\n",
       "      <td>54004764</td>\n",
       "      <td>21868593</td>\n",
       "      <td>Driver error</td>\n",
       "      <td>11/27/2017</td>\n",
       "      <td>Auto</td>\n",
       "      <td>No</td>\n",
       "      <td>Material only</td>\n",
       "      <td>$2980</td>\n",
       "      <td>1.0</td>\n",
       "      <td>No</td>\n",
       "    </tr>\n",
       "    <tr>\n",
       "      <th>1</th>\n",
       "      <td>75740424</td>\n",
       "      <td>Female</td>\n",
       "      <td>13-Jan-70</td>\n",
       "      <td>ME</td>\n",
       "      <td>265-543-1264</td>\n",
       "      <td>Silver</td>\n",
       "      <td>33985796</td>\n",
       "      <td>75740424</td>\n",
       "      <td>Crime</td>\n",
       "      <td>10/03/2018</td>\n",
       "      <td>Home</td>\n",
       "      <td>Unknown</td>\n",
       "      <td>Material only</td>\n",
       "      <td>$2980</td>\n",
       "      <td>3.0</td>\n",
       "      <td>No</td>\n",
       "    </tr>\n",
       "    <tr>\n",
       "      <th>2</th>\n",
       "      <td>30308357</td>\n",
       "      <td>Female</td>\n",
       "      <td>11-Mar-84</td>\n",
       "      <td>TN</td>\n",
       "      <td>798-631-4758</td>\n",
       "      <td>Silver</td>\n",
       "      <td>53522022</td>\n",
       "      <td>30308357</td>\n",
       "      <td>Other driver error</td>\n",
       "      <td>02/02/2018</td>\n",
       "      <td>Auto</td>\n",
       "      <td>No</td>\n",
       "      <td>Material only</td>\n",
       "      <td>$3369.5</td>\n",
       "      <td>1.0</td>\n",
       "      <td>Yes</td>\n",
       "    </tr>\n",
       "    <tr>\n",
       "      <th>3</th>\n",
       "      <td>30308357</td>\n",
       "      <td>Female</td>\n",
       "      <td>11-Mar-84</td>\n",
       "      <td>TN</td>\n",
       "      <td>798-631-4758</td>\n",
       "      <td>Silver</td>\n",
       "      <td>63017412</td>\n",
       "      <td>30308357</td>\n",
       "      <td>Driver error</td>\n",
       "      <td>04/04/2018</td>\n",
       "      <td>Auto</td>\n",
       "      <td>No</td>\n",
       "      <td>Material only</td>\n",
       "      <td>$1950</td>\n",
       "      <td>6.0</td>\n",
       "      <td>No</td>\n",
       "    </tr>\n",
       "    <tr>\n",
       "      <th>4</th>\n",
       "      <td>47830476</td>\n",
       "      <td>Female</td>\n",
       "      <td>01-May-86</td>\n",
       "      <td>MA</td>\n",
       "      <td>413-187-7945</td>\n",
       "      <td>Silver</td>\n",
       "      <td>13015401</td>\n",
       "      <td>47830476</td>\n",
       "      <td>Natural causes</td>\n",
       "      <td>06/17/2018</td>\n",
       "      <td>Auto</td>\n",
       "      <td>No</td>\n",
       "      <td>Material only</td>\n",
       "      <td>$1680</td>\n",
       "      <td>1.0</td>\n",
       "      <td>No</td>\n",
       "    </tr>\n",
       "    <tr>\n",
       "      <th>...</th>\n",
       "      <td>...</td>\n",
       "      <td>...</td>\n",
       "      <td>...</td>\n",
       "      <td>...</td>\n",
       "      <td>...</td>\n",
       "      <td>...</td>\n",
       "      <td>...</td>\n",
       "      <td>...</td>\n",
       "      <td>...</td>\n",
       "      <td>...</td>\n",
       "      <td>...</td>\n",
       "      <td>...</td>\n",
       "      <td>...</td>\n",
       "      <td>...</td>\n",
       "      <td>...</td>\n",
       "      <td>...</td>\n",
       "    </tr>\n",
       "    <tr>\n",
       "      <th>1080</th>\n",
       "      <td>79539873</td>\n",
       "      <td>Female</td>\n",
       "      <td>15-Mar-81</td>\n",
       "      <td>ND</td>\n",
       "      <td>459-425-4319</td>\n",
       "      <td>Platinum</td>\n",
       "      <td>62020796</td>\n",
       "      <td>79539873</td>\n",
       "      <td>Other driver error</td>\n",
       "      <td>09/06/2018</td>\n",
       "      <td>Auto</td>\n",
       "      <td>Yes</td>\n",
       "      <td>Material only</td>\n",
       "      <td>$1770</td>\n",
       "      <td>1.0</td>\n",
       "      <td>No</td>\n",
       "    </tr>\n",
       "    <tr>\n",
       "      <th>1081</th>\n",
       "      <td>42364152</td>\n",
       "      <td>Female</td>\n",
       "      <td>07-Jul-96</td>\n",
       "      <td>ID</td>\n",
       "      <td>529-462-1635</td>\n",
       "      <td>Silver</td>\n",
       "      <td>63269067</td>\n",
       "      <td>42364152</td>\n",
       "      <td>Other causes</td>\n",
       "      <td>05/09/2017</td>\n",
       "      <td>Home</td>\n",
       "      <td>No</td>\n",
       "      <td>Material only</td>\n",
       "      <td>$2800</td>\n",
       "      <td>1.0</td>\n",
       "      <td>No</td>\n",
       "    </tr>\n",
       "    <tr>\n",
       "      <th>1082</th>\n",
       "      <td>19888166</td>\n",
       "      <td>Male</td>\n",
       "      <td>11-Apr-90</td>\n",
       "      <td>WI</td>\n",
       "      <td>712-651-9613</td>\n",
       "      <td>Gold</td>\n",
       "      <td>22690595</td>\n",
       "      <td>19888166</td>\n",
       "      <td>Other driver error</td>\n",
       "      <td>05/15/2017</td>\n",
       "      <td>Auto</td>\n",
       "      <td>Yes</td>\n",
       "      <td>Injury only</td>\n",
       "      <td>$33080</td>\n",
       "      <td>2.0</td>\n",
       "      <td>No</td>\n",
       "    </tr>\n",
       "    <tr>\n",
       "      <th>1083</th>\n",
       "      <td>11256802</td>\n",
       "      <td>Female</td>\n",
       "      <td>22-Oct-64</td>\n",
       "      <td>LA</td>\n",
       "      <td>469-345-5617</td>\n",
       "      <td>Silver</td>\n",
       "      <td>12376894</td>\n",
       "      <td>11256802</td>\n",
       "      <td>Other driver error</td>\n",
       "      <td>04/18/2017</td>\n",
       "      <td>Auto</td>\n",
       "      <td>No</td>\n",
       "      <td>Material only</td>\n",
       "      <td>$2840</td>\n",
       "      <td>4.0</td>\n",
       "      <td>No</td>\n",
       "    </tr>\n",
       "    <tr>\n",
       "      <th>1084</th>\n",
       "      <td>61575264</td>\n",
       "      <td>Male</td>\n",
       "      <td>12-Jul-95</td>\n",
       "      <td>WY</td>\n",
       "      <td>182-385-1392</td>\n",
       "      <td>Gold</td>\n",
       "      <td>63226031</td>\n",
       "      <td>61575264</td>\n",
       "      <td>Natural causes</td>\n",
       "      <td>03/16/2017</td>\n",
       "      <td>Auto</td>\n",
       "      <td>No</td>\n",
       "      <td>Material only</td>\n",
       "      <td>$1490</td>\n",
       "      <td>1.0</td>\n",
       "      <td>No</td>\n",
       "    </tr>\n",
       "  </tbody>\n",
       "</table>\n",
       "<p>1085 rows × 16 columns</p>\n",
       "</div>"
      ],
      "text/plain": [
       "       CUST_ID  gender DateOfBirth State       Contact   Segment  claim_id  \\\n",
       "0     21868593  Female   12-Jan-79    VT  789-916-8172  Platinum  54004764   \n",
       "1     75740424  Female   13-Jan-70    ME  265-543-1264    Silver  33985796   \n",
       "2     30308357  Female   11-Mar-84    TN  798-631-4758    Silver  53522022   \n",
       "3     30308357  Female   11-Mar-84    TN  798-631-4758    Silver  63017412   \n",
       "4     47830476  Female   01-May-86    MA  413-187-7945    Silver  13015401   \n",
       "...        ...     ...         ...   ...           ...       ...       ...   \n",
       "1080  79539873  Female   15-Mar-81    ND  459-425-4319  Platinum  62020796   \n",
       "1081  42364152  Female   07-Jul-96    ID  529-462-1635    Silver  63269067   \n",
       "1082  19888166    Male   11-Apr-90    WI  712-651-9613      Gold  22690595   \n",
       "1083  11256802  Female   22-Oct-64    LA  469-345-5617    Silver  12376894   \n",
       "1084  61575264    Male   12-Jul-95    WY  182-385-1392      Gold  63226031   \n",
       "\n",
       "      customer_id      incident_cause  claim_date claim_area police_report  \\\n",
       "0        21868593        Driver error  11/27/2017       Auto            No   \n",
       "1        75740424               Crime  10/03/2018       Home       Unknown   \n",
       "2        30308357  Other driver error  02/02/2018       Auto            No   \n",
       "3        30308357        Driver error  04/04/2018       Auto            No   \n",
       "4        47830476      Natural causes  06/17/2018       Auto            No   \n",
       "...           ...                 ...         ...        ...           ...   \n",
       "1080     79539873  Other driver error  09/06/2018       Auto           Yes   \n",
       "1081     42364152        Other causes  05/09/2017       Home            No   \n",
       "1082     19888166  Other driver error  05/15/2017       Auto           Yes   \n",
       "1083     11256802  Other driver error  04/18/2017       Auto            No   \n",
       "1084     61575264      Natural causes  03/16/2017       Auto            No   \n",
       "\n",
       "         claim_type claim_amount  total_policy_claims fraudulent  \n",
       "0     Material only        $2980                  1.0         No  \n",
       "1     Material only        $2980                  3.0         No  \n",
       "2     Material only      $3369.5                  1.0        Yes  \n",
       "3     Material only        $1950                  6.0         No  \n",
       "4     Material only        $1680                  1.0         No  \n",
       "...             ...          ...                  ...        ...  \n",
       "1080  Material only        $1770                  1.0         No  \n",
       "1081  Material only        $2800                  1.0         No  \n",
       "1082    Injury only       $33080                  2.0         No  \n",
       "1083  Material only        $2840                  4.0         No  \n",
       "1084  Material only        $1490                  1.0         No  \n",
       "\n",
       "[1085 rows x 16 columns]"
      ]
     },
     "execution_count": 95,
     "metadata": {},
     "output_type": "execute_result"
    }
   ],
   "source": [
    "claimscustomer=pd.merge(left=customer,right=claimsdata,left_on='CUST_ID',right_on='customer_id',how='inner')\n",
    "claimscustomer"
   ]
  },
  {
   "cell_type": "markdown",
   "id": "73b9d136-3d55-493c-aaf0-493b10fb03e3",
   "metadata": {},
   "source": [
    "### 2. Perform a data audit for the datatypes and find out if there are any mismatch within the current datatypes of the columns and their business significance."
   ]
  },
  {
   "cell_type": "code",
   "execution_count": 96,
   "id": "f6c4862d-4274-4626-94f3-3914bff3787b",
   "metadata": {},
   "outputs": [],
   "source": [
    "claimscustomer.drop('customer_id',axis=1,inplace=True)\n",
    "claimscustomer.rename(columns={'CUST_ID' : 'Customer_Id'},inplace=True)"
   ]
  },
  {
   "cell_type": "code",
   "execution_count": 97,
   "id": "d9092795-d293-4696-a3fd-dc40688c3271",
   "metadata": {},
   "outputs": [],
   "source": [
    "claimscustomer['claim_date']=pd.to_datetime(claimscustomer['claim_date'])"
   ]
  },
  {
   "cell_type": "code",
   "execution_count": 98,
   "id": "b3a1e690-dbe9-4cde-94fe-b923516346df",
   "metadata": {},
   "outputs": [],
   "source": [
    "claimscustomer['DateOfBirth']= pd.to_datetime(claimscustomer.DateOfBirth,format='%d-%b-%y')"
   ]
  },
  {
   "cell_type": "code",
   "execution_count": 99,
   "id": "0a9b1a7b-1ced-4beb-80ff-b37e947acc01",
   "metadata": {},
   "outputs": [],
   "source": [
    "claimscustomer.loc[(claimscustomer.DateOfBirth.dt.year > 2020),\"DateOfBirth\"]=claimscustomer[claimscustomer.DateOfBirth.dt.year > 2020][\"DateOfBirth\"].apply(lambda x: x - pd.DateOffset(years=100))"
   ]
  },
  {
   "cell_type": "code",
   "execution_count": 100,
   "id": "e6a289e4-ab7f-4708-aa45-c1a1a5902a6d",
   "metadata": {},
   "outputs": [],
   "source": [
    "claimscustomer['claim_id']=claimscustomer['claim_id'].astype('Int64')"
   ]
  },
  {
   "cell_type": "code",
   "execution_count": 101,
   "id": "2f82791d-fa96-428a-819b-e5df4b6febce",
   "metadata": {},
   "outputs": [
    {
     "data": {
      "text/plain": [
       "Customer_Id                     int64\n",
       "gender                         object\n",
       "DateOfBirth            datetime64[ns]\n",
       "State                          object\n",
       "Contact                        object\n",
       "Segment                        object\n",
       "claim_id                        Int64\n",
       "incident_cause                 object\n",
       "claim_date             datetime64[ns]\n",
       "claim_area                     object\n",
       "police_report                  object\n",
       "claim_type                     object\n",
       "claim_amount                   object\n",
       "total_policy_claims           float64\n",
       "fraudulent                     object\n",
       "dtype: object"
      ]
     },
     "execution_count": 101,
     "metadata": {},
     "output_type": "execute_result"
    }
   ],
   "source": [
    "claimscustomer.dtypes"
   ]
  },
  {
   "cell_type": "code",
   "execution_count": null,
   "id": "62124070-44d0-4a2a-acc2-3d6e6ff840ce",
   "metadata": {},
   "outputs": [],
   "source": []
  },
  {
   "cell_type": "code",
   "execution_count": 102,
   "id": "6cc76465-954c-476f-94e2-d412a51ce255",
   "metadata": {},
   "outputs": [],
   "source": [
    "claimscustomer['claim_date']= pd.to_datetime(claimscustomer.claim_date,format='%d-%b-%y')"
   ]
  },
  {
   "cell_type": "code",
   "execution_count": 103,
   "id": "1b6b8294-d39c-440a-b7fe-6649f9bae1a4",
   "metadata": {},
   "outputs": [],
   "source": [
    "import warnings\n",
    "warnings.filterwarnings('ignore')\n"
   ]
  },
  {
   "cell_type": "code",
   "execution_count": null,
   "id": "d1144220-18e2-45df-857b-f492c66a697d",
   "metadata": {},
   "outputs": [],
   "source": []
  },
  {
   "cell_type": "markdown",
   "id": "21984d94-7c6d-46f4-a53a-7a239522797c",
   "metadata": {},
   "source": [
    "### 3. Convert the column claim_amount to numeric. Use the appropriate modules/attributes to remove the $ sign."
   ]
  },
  {
   "cell_type": "markdown",
   "id": "f0b3e691-619a-474e-9738-471aa0c4c8a7",
   "metadata": {},
   "source": [
    "#### Here, I am converting the column 'claim_amount'  from object datatype to float because the values are in float format."
   ]
  },
  {
   "cell_type": "code",
   "execution_count": 104,
   "id": "fd6e989a-9c93-459e-8249-75d4cf18b428",
   "metadata": {},
   "outputs": [],
   "source": [
    "claimscustomer['claim_amount'] = claimscustomer['claim_amount'].str.replace('$','').astype('float')"
   ]
  },
  {
   "cell_type": "code",
   "execution_count": 105,
   "id": "0c5c4994-6806-47a5-9e87-d8cf17b7bb95",
   "metadata": {},
   "outputs": [],
   "source": [
    "claimscustomer.rename(columns={'claim_amount' : 'claim_amount_in_$'},inplace=True)"
   ]
  },
  {
   "cell_type": "code",
   "execution_count": 106,
   "id": "c6ee4133-4e7c-4977-9cb8-4506ac20ed54",
   "metadata": {},
   "outputs": [
    {
     "data": {
      "text/plain": [
       "Customer_Id                     int64\n",
       "gender                         object\n",
       "DateOfBirth            datetime64[ns]\n",
       "State                          object\n",
       "Contact                        object\n",
       "Segment                        object\n",
       "claim_id                        Int64\n",
       "incident_cause                 object\n",
       "claim_date             datetime64[ns]\n",
       "claim_area                     object\n",
       "police_report                  object\n",
       "claim_type                     object\n",
       "claim_amount_in_$             float64\n",
       "total_policy_claims           float64\n",
       "fraudulent                     object\n",
       "dtype: object"
      ]
     },
     "execution_count": 106,
     "metadata": {},
     "output_type": "execute_result"
    }
   ],
   "source": [
    "claimscustomer.dtypes"
   ]
  },
  {
   "cell_type": "code",
   "execution_count": 107,
   "id": "ae6abc40-fbf1-4133-a368-ed3549cae31b",
   "metadata": {},
   "outputs": [
    {
     "data": {
      "text/plain": [
       "Customer_Id            0.000000\n",
       "gender                 0.000000\n",
       "DateOfBirth            0.000000\n",
       "State                  0.000000\n",
       "Contact                0.000000\n",
       "Segment                0.000000\n",
       "claim_id               0.000000\n",
       "incident_cause         0.000000\n",
       "claim_date             0.000000\n",
       "claim_area             0.000000\n",
       "police_report          0.000000\n",
       "claim_type             0.000000\n",
       "claim_amount_in_$      5.990783\n",
       "total_policy_claims    0.921659\n",
       "fraudulent             0.000000\n",
       "dtype: float64"
      ]
     },
     "execution_count": 107,
     "metadata": {},
     "output_type": "execute_result"
    }
   ],
   "source": [
    "na=claimscustomer.isna().sum()\n",
    "data=claimscustomer.shape[0]\n",
    "nas=(na/data)*100\n",
    "nas"
   ]
  },
  {
   "cell_type": "markdown",
   "id": "a9f1c724-2c10-4241-85fe-15e2242b225e",
   "metadata": {},
   "source": [
    "### Hence, we can observe that claims_amount contains more than 5% NA values, so I decided to replace the NA values"
   ]
  },
  {
   "cell_type": "code",
   "execution_count": 108,
   "id": "9d6df647-826f-44cc-a057-99173504131d",
   "metadata": {},
   "outputs": [
    {
     "data": {
      "text/plain": [
       "<Axes: >"
      ]
     },
     "execution_count": 108,
     "metadata": {},
     "output_type": "execute_result"
    },
    {
     "data": {
      "image/png": "[encoded data removed]",
      "text/plain": [
       "<Figure size 640x480 with 1 Axes>"
      ]
     },
     "metadata": {},
     "output_type": "display_data"
    }
   ],
   "source": [
    "claimscustomer['claim_amount_in_$'].plot(kind='box')"
   ]
  },
  {
   "cell_type": "markdown",
   "id": "57928ccb-8e53-48f3-af3d-23e16882a1d0",
   "metadata": {},
   "source": [
    "#####"
   ]
  },
  {
   "cell_type": "markdown",
   "id": "ff8b5e14-f882-4da7-b58b-cb4aa080ee0b",
   "metadata": {},
   "source": [
    "#### Hence we can observe outliers in the above chart, I will fill the missing values of 'claim_amount_in_$' with the median....."
   ]
  },
  {
   "cell_type": "code",
   "execution_count": 109,
   "id": "e443919f-db85-467c-8b55-ede0573e3c10",
   "metadata": {},
   "outputs": [
    {
     "data": {
      "text/plain": [
       "Customer_Id             0\n",
       "gender                  0\n",
       "DateOfBirth             0\n",
       "State                   0\n",
       "Contact                 0\n",
       "Segment                 0\n",
       "claim_id                0\n",
       "incident_cause          0\n",
       "claim_date              0\n",
       "claim_area              0\n",
       "police_report           0\n",
       "claim_type              0\n",
       "claim_amount_in_$       0\n",
       "total_policy_claims    10\n",
       "fraudulent              0\n",
       "dtype: int64"
      ]
     },
     "execution_count": 109,
     "metadata": {},
     "output_type": "execute_result"
    }
   ],
   "source": [
    "median=claimscustomer['claim_amount_in_$'].median()\n",
    "claimscustomer['claim_amount_in_$'].fillna(median,inplace=True)\n",
    "claimscustomer.isna().sum()"
   ]
  },
  {
   "cell_type": "markdown",
   "id": "22bf11c7-b6c0-4ded-87da-71162b661076",
   "metadata": {},
   "source": [
    "### Here na values are less then 5% that`s why i am leaving that values as it is.."
   ]
  },
  {
   "cell_type": "code",
   "execution_count": null,
   "id": "55f42d7f-4990-4da8-82c2-e58b8ffdb9f5",
   "metadata": {},
   "outputs": [],
   "source": []
  },
  {
   "cell_type": "markdown",
   "id": "d66d1205-f1cb-4944-8cc6-7d852ef8beb9",
   "metadata": {},
   "source": [
    "#### 4. Of all the injury claims, some of them have gone unreported with the police. Create an alert flag (1,0) for all such claims."
   ]
  },
  {
   "cell_type": "code",
   "execution_count": null,
   "id": "0690a269-85eb-457a-a091-60148944f574",
   "metadata": {},
   "outputs": [],
   "source": []
  },
  {
   "cell_type": "code",
   "execution_count": 157,
   "id": "071525f0-fbea-4bb4-a216-f08eafeb8750",
   "metadata": {
    "scrolled": true
   },
   "outputs": [
    {
     "data": {
      "text/html": [
       "<div>\n",
       "<style scoped>\n",
       "    .dataframe tbody tr th:only-of-type {\n",
       "        vertical-align: middle;\n",
       "    }\n",
       "\n",
       "    .dataframe tbody tr th {\n",
       "        vertical-align: top;\n",
       "    }\n",
       "\n",
       "    .dataframe thead th {\n",
       "        text-align: right;\n",
       "    }\n",
       "</style>\n",
       "<table border=\"1\" class=\"dataframe\">\n",
       "  <thead>\n",
       "    <tr style=\"text-align: right;\">\n",
       "      <th></th>\n",
       "      <th>Customer_Id</th>\n",
       "      <th>gender</th>\n",
       "      <th>DateOfBirth</th>\n",
       "      <th>State</th>\n",
       "      <th>Contact</th>\n",
       "      <th>Segment</th>\n",
       "      <th>claim_id</th>\n",
       "      <th>incident_cause</th>\n",
       "      <th>claim_date</th>\n",
       "      <th>claim_area</th>\n",
       "      <th>police_report</th>\n",
       "      <th>claim_type</th>\n",
       "      <th>claim_amount_in_$</th>\n",
       "      <th>total_policy_claims</th>\n",
       "      <th>fraudulent</th>\n",
       "      <th>alert_flag</th>\n",
       "      <th>Age</th>\n",
       "      <th>Age_cat</th>\n",
       "      <th>claim_month</th>\n",
       "      <th>Claim_Year</th>\n",
       "    </tr>\n",
       "  </thead>\n",
       "  <tbody>\n",
       "    <tr>\n",
       "      <th>0</th>\n",
       "      <td>93915431</td>\n",
       "      <td>Male</td>\n",
       "      <td>1967-09-08</td>\n",
       "      <td>ME</td>\n",
       "      <td>134-785-1687</td>\n",
       "      <td>Gold</td>\n",
       "      <td>99775483</td>\n",
       "      <td>Other causes</td>\n",
       "      <td>2018-10-30</td>\n",
       "      <td>Auto</td>\n",
       "      <td>No</td>\n",
       "      <td>Material and injury</td>\n",
       "      <td>42124.5</td>\n",
       "      <td>1.0</td>\n",
       "      <td>Yes</td>\n",
       "      <td>0</td>\n",
       "      <td>56</td>\n",
       "      <td>Adult</td>\n",
       "      <td>October</td>\n",
       "      <td>2018</td>\n",
       "    </tr>\n",
       "    <tr>\n",
       "      <th>1</th>\n",
       "      <td>38011078</td>\n",
       "      <td>Female</td>\n",
       "      <td>1976-05-20</td>\n",
       "      <td>NE</td>\n",
       "      <td>271-123-1475</td>\n",
       "      <td>Gold</td>\n",
       "      <td>98795403</td>\n",
       "      <td>Crime</td>\n",
       "      <td>2018-10-30</td>\n",
       "      <td>Auto</td>\n",
       "      <td>Unknown</td>\n",
       "      <td>Material only</td>\n",
       "      <td>1940.0</td>\n",
       "      <td>1.0</td>\n",
       "      <td>No</td>\n",
       "      <td>0</td>\n",
       "      <td>48</td>\n",
       "      <td>Adult</td>\n",
       "      <td>October</td>\n",
       "      <td>2018</td>\n",
       "    </tr>\n",
       "    <tr>\n",
       "      <th>2</th>\n",
       "      <td>58451506</td>\n",
       "      <td>Male</td>\n",
       "      <td>1968-04-22</td>\n",
       "      <td>FL</td>\n",
       "      <td>673-574-7823</td>\n",
       "      <td>Gold</td>\n",
       "      <td>43042986</td>\n",
       "      <td>Natural causes</td>\n",
       "      <td>2018-10-30</td>\n",
       "      <td>Auto</td>\n",
       "      <td>No</td>\n",
       "      <td>Material only</td>\n",
       "      <td>2420.0</td>\n",
       "      <td>1.0</td>\n",
       "      <td>No</td>\n",
       "      <td>0</td>\n",
       "      <td>56</td>\n",
       "      <td>Adult</td>\n",
       "      <td>October</td>\n",
       "      <td>2018</td>\n",
       "    </tr>\n",
       "    <tr>\n",
       "      <th>3</th>\n",
       "      <td>46710738</td>\n",
       "      <td>Male</td>\n",
       "      <td>1977-04-28</td>\n",
       "      <td>MO</td>\n",
       "      <td>962-834-9361</td>\n",
       "      <td>Gold</td>\n",
       "      <td>74761374</td>\n",
       "      <td>Driver error</td>\n",
       "      <td>2018-10-30</td>\n",
       "      <td>Auto</td>\n",
       "      <td>No</td>\n",
       "      <td>Material only</td>\n",
       "      <td>1830.0</td>\n",
       "      <td>1.0</td>\n",
       "      <td>No</td>\n",
       "      <td>0</td>\n",
       "      <td>47</td>\n",
       "      <td>Adult</td>\n",
       "      <td>October</td>\n",
       "      <td>2018</td>\n",
       "    </tr>\n",
       "    <tr>\n",
       "      <th>4</th>\n",
       "      <td>77510822</td>\n",
       "      <td>Female</td>\n",
       "      <td>1986-03-18</td>\n",
       "      <td>AK</td>\n",
       "      <td>436-934-7156</td>\n",
       "      <td>Silver</td>\n",
       "      <td>87329176</td>\n",
       "      <td>Other driver error</td>\n",
       "      <td>2018-10-30</td>\n",
       "      <td>Auto</td>\n",
       "      <td>Unknown</td>\n",
       "      <td>Material only</td>\n",
       "      <td>2740.0</td>\n",
       "      <td>2.0</td>\n",
       "      <td>No</td>\n",
       "      <td>0</td>\n",
       "      <td>38</td>\n",
       "      <td>Adult</td>\n",
       "      <td>October</td>\n",
       "      <td>2018</td>\n",
       "    </tr>\n",
       "    <tr>\n",
       "      <th>5</th>\n",
       "      <td>17682060</td>\n",
       "      <td>Female</td>\n",
       "      <td>1974-11-21</td>\n",
       "      <td>NV</td>\n",
       "      <td>186-195-3465</td>\n",
       "      <td>Gold</td>\n",
       "      <td>49735712</td>\n",
       "      <td>Crime</td>\n",
       "      <td>2018-10-30</td>\n",
       "      <td>Home</td>\n",
       "      <td>Unknown</td>\n",
       "      <td>Material and injury</td>\n",
       "      <td>17020.0</td>\n",
       "      <td>1.0</td>\n",
       "      <td>No</td>\n",
       "      <td>0</td>\n",
       "      <td>49</td>\n",
       "      <td>Adult</td>\n",
       "      <td>October</td>\n",
       "      <td>2018</td>\n",
       "    </tr>\n",
       "    <tr>\n",
       "      <th>6</th>\n",
       "      <td>40480522</td>\n",
       "      <td>Female</td>\n",
       "      <td>1984-05-30</td>\n",
       "      <td>NV</td>\n",
       "      <td>739-259-6835</td>\n",
       "      <td>Gold</td>\n",
       "      <td>52377605</td>\n",
       "      <td>Driver error</td>\n",
       "      <td>2018-10-30</td>\n",
       "      <td>Auto</td>\n",
       "      <td>Unknown</td>\n",
       "      <td>Material and injury</td>\n",
       "      <td>26310.0</td>\n",
       "      <td>1.0</td>\n",
       "      <td>No</td>\n",
       "      <td>0</td>\n",
       "      <td>40</td>\n",
       "      <td>Adult</td>\n",
       "      <td>October</td>\n",
       "      <td>2018</td>\n",
       "    </tr>\n",
       "    <tr>\n",
       "      <th>7</th>\n",
       "      <td>28932340</td>\n",
       "      <td>Male</td>\n",
       "      <td>1996-01-05</td>\n",
       "      <td>LA</td>\n",
       "      <td>652-265-8231</td>\n",
       "      <td>Gold</td>\n",
       "      <td>25213498</td>\n",
       "      <td>Driver error</td>\n",
       "      <td>2018-10-30</td>\n",
       "      <td>Auto</td>\n",
       "      <td>Unknown</td>\n",
       "      <td>Material only</td>\n",
       "      <td>2740.0</td>\n",
       "      <td>1.0</td>\n",
       "      <td>No</td>\n",
       "      <td>0</td>\n",
       "      <td>28</td>\n",
       "      <td>Youth</td>\n",
       "      <td>October</td>\n",
       "      <td>2018</td>\n",
       "    </tr>\n",
       "    <tr>\n",
       "      <th>8</th>\n",
       "      <td>65208809</td>\n",
       "      <td>Male</td>\n",
       "      <td>1964-04-22</td>\n",
       "      <td>VA</td>\n",
       "      <td>286-128-6132</td>\n",
       "      <td>Platinum</td>\n",
       "      <td>91386759</td>\n",
       "      <td>Natural causes</td>\n",
       "      <td>2018-10-30</td>\n",
       "      <td>Auto</td>\n",
       "      <td>No</td>\n",
       "      <td>Material only</td>\n",
       "      <td>2290.0</td>\n",
       "      <td>1.0</td>\n",
       "      <td>No</td>\n",
       "      <td>0</td>\n",
       "      <td>60</td>\n",
       "      <td>Adult</td>\n",
       "      <td>October</td>\n",
       "      <td>2018</td>\n",
       "    </tr>\n",
       "    <tr>\n",
       "      <th>9</th>\n",
       "      <td>86491727</td>\n",
       "      <td>Female</td>\n",
       "      <td>1997-01-29</td>\n",
       "      <td>IL</td>\n",
       "      <td>294-187-3286</td>\n",
       "      <td>Gold</td>\n",
       "      <td>32178193</td>\n",
       "      <td>Driver error</td>\n",
       "      <td>2018-10-30</td>\n",
       "      <td>Home</td>\n",
       "      <td>Unknown</td>\n",
       "      <td>Material only</td>\n",
       "      <td>1860.0</td>\n",
       "      <td>1.0</td>\n",
       "      <td>No</td>\n",
       "      <td>0</td>\n",
       "      <td>27</td>\n",
       "      <td>Youth</td>\n",
       "      <td>October</td>\n",
       "      <td>2018</td>\n",
       "    </tr>\n",
       "    <tr>\n",
       "      <th>10</th>\n",
       "      <td>62861487</td>\n",
       "      <td>Male</td>\n",
       "      <td>1987-08-09</td>\n",
       "      <td>NV</td>\n",
       "      <td>851-758-3157</td>\n",
       "      <td>Gold</td>\n",
       "      <td>39476021</td>\n",
       "      <td>Other causes</td>\n",
       "      <td>2018-10-23</td>\n",
       "      <td>Auto</td>\n",
       "      <td>Yes</td>\n",
       "      <td>Injury only</td>\n",
       "      <td>19340.0</td>\n",
       "      <td>1.0</td>\n",
       "      <td>No</td>\n",
       "      <td>0</td>\n",
       "      <td>36</td>\n",
       "      <td>Adult</td>\n",
       "      <td>October</td>\n",
       "      <td>2018</td>\n",
       "    </tr>\n",
       "    <tr>\n",
       "      <th>11</th>\n",
       "      <td>51033228</td>\n",
       "      <td>Male</td>\n",
       "      <td>1985-10-13</td>\n",
       "      <td>IN</td>\n",
       "      <td>534-462-2657</td>\n",
       "      <td>Gold</td>\n",
       "      <td>50927161</td>\n",
       "      <td>Driver error</td>\n",
       "      <td>2018-10-23</td>\n",
       "      <td>Auto</td>\n",
       "      <td>No</td>\n",
       "      <td>Material and injury</td>\n",
       "      <td>30890.0</td>\n",
       "      <td>2.0</td>\n",
       "      <td>No</td>\n",
       "      <td>0</td>\n",
       "      <td>38</td>\n",
       "      <td>Adult</td>\n",
       "      <td>October</td>\n",
       "      <td>2018</td>\n",
       "    </tr>\n",
       "    <tr>\n",
       "      <th>12</th>\n",
       "      <td>28590552</td>\n",
       "      <td>Female</td>\n",
       "      <td>1964-01-10</td>\n",
       "      <td>TN</td>\n",
       "      <td>189-813-7561</td>\n",
       "      <td>Silver</td>\n",
       "      <td>26678377</td>\n",
       "      <td>Other causes</td>\n",
       "      <td>2018-10-23</td>\n",
       "      <td>Auto</td>\n",
       "      <td>Unknown</td>\n",
       "      <td>Material and injury</td>\n",
       "      <td>25160.0</td>\n",
       "      <td>1.0</td>\n",
       "      <td>No</td>\n",
       "      <td>0</td>\n",
       "      <td>60</td>\n",
       "      <td>Adult</td>\n",
       "      <td>October</td>\n",
       "      <td>2018</td>\n",
       "    </tr>\n",
       "    <tr>\n",
       "      <th>13</th>\n",
       "      <td>36126424</td>\n",
       "      <td>Female</td>\n",
       "      <td>1981-02-11</td>\n",
       "      <td>ME</td>\n",
       "      <td>398-768-5283</td>\n",
       "      <td>Platinum</td>\n",
       "      <td>5222877</td>\n",
       "      <td>Driver error</td>\n",
       "      <td>2018-10-23</td>\n",
       "      <td>Auto</td>\n",
       "      <td>Unknown</td>\n",
       "      <td>Material and injury</td>\n",
       "      <td>20550.0</td>\n",
       "      <td>1.0</td>\n",
       "      <td>No</td>\n",
       "      <td>0</td>\n",
       "      <td>43</td>\n",
       "      <td>Adult</td>\n",
       "      <td>October</td>\n",
       "      <td>2018</td>\n",
       "    </tr>\n",
       "    <tr>\n",
       "      <th>14</th>\n",
       "      <td>99961993</td>\n",
       "      <td>Male</td>\n",
       "      <td>1995-06-10</td>\n",
       "      <td>AL</td>\n",
       "      <td>234-943-2876</td>\n",
       "      <td>Platinum</td>\n",
       "      <td>47262068</td>\n",
       "      <td>Driver error</td>\n",
       "      <td>2018-10-23</td>\n",
       "      <td>Home</td>\n",
       "      <td>No</td>\n",
       "      <td>Material only</td>\n",
       "      <td>2310.0</td>\n",
       "      <td>1.0</td>\n",
       "      <td>No</td>\n",
       "      <td>0</td>\n",
       "      <td>29</td>\n",
       "      <td>Youth</td>\n",
       "      <td>October</td>\n",
       "      <td>2018</td>\n",
       "    </tr>\n",
       "    <tr>\n",
       "      <th>15</th>\n",
       "      <td>18818283</td>\n",
       "      <td>Female</td>\n",
       "      <td>1997-05-03</td>\n",
       "      <td>CT</td>\n",
       "      <td>179-136-6493</td>\n",
       "      <td>Platinum</td>\n",
       "      <td>12799217</td>\n",
       "      <td>Natural causes</td>\n",
       "      <td>2018-10-23</td>\n",
       "      <td>Auto</td>\n",
       "      <td>No</td>\n",
       "      <td>Material only</td>\n",
       "      <td>2740.0</td>\n",
       "      <td>3.0</td>\n",
       "      <td>No</td>\n",
       "      <td>0</td>\n",
       "      <td>27</td>\n",
       "      <td>Youth</td>\n",
       "      <td>October</td>\n",
       "      <td>2018</td>\n",
       "    </tr>\n",
       "    <tr>\n",
       "      <th>16</th>\n",
       "      <td>72081129</td>\n",
       "      <td>Male</td>\n",
       "      <td>1973-04-19</td>\n",
       "      <td>SC</td>\n",
       "      <td>124-584-4261</td>\n",
       "      <td>Gold</td>\n",
       "      <td>87951152</td>\n",
       "      <td>Crime</td>\n",
       "      <td>2018-10-23</td>\n",
       "      <td>Auto</td>\n",
       "      <td>No</td>\n",
       "      <td>Material only</td>\n",
       "      <td>1730.0</td>\n",
       "      <td>3.0</td>\n",
       "      <td>No</td>\n",
       "      <td>0</td>\n",
       "      <td>51</td>\n",
       "      <td>Adult</td>\n",
       "      <td>October</td>\n",
       "      <td>2018</td>\n",
       "    </tr>\n",
       "    <tr>\n",
       "      <th>17</th>\n",
       "      <td>6342530</td>\n",
       "      <td>Female</td>\n",
       "      <td>1974-04-05</td>\n",
       "      <td>MO</td>\n",
       "      <td>852-547-4379</td>\n",
       "      <td>Silver</td>\n",
       "      <td>42449662</td>\n",
       "      <td>Other driver error</td>\n",
       "      <td>2018-10-23</td>\n",
       "      <td>Home</td>\n",
       "      <td>No</td>\n",
       "      <td>Material only</td>\n",
       "      <td>2940.0</td>\n",
       "      <td>1.0</td>\n",
       "      <td>No</td>\n",
       "      <td>0</td>\n",
       "      <td>50</td>\n",
       "      <td>Adult</td>\n",
       "      <td>October</td>\n",
       "      <td>2018</td>\n",
       "    </tr>\n",
       "    <tr>\n",
       "      <th>18</th>\n",
       "      <td>9339845</td>\n",
       "      <td>Male</td>\n",
       "      <td>1969-07-31</td>\n",
       "      <td>MO</td>\n",
       "      <td>976-293-9743</td>\n",
       "      <td>Gold</td>\n",
       "      <td>61586929</td>\n",
       "      <td>Driver error</td>\n",
       "      <td>2018-10-23</td>\n",
       "      <td>Auto</td>\n",
       "      <td>No</td>\n",
       "      <td>Material only</td>\n",
       "      <td>2740.0</td>\n",
       "      <td>1.0</td>\n",
       "      <td>No</td>\n",
       "      <td>0</td>\n",
       "      <td>54</td>\n",
       "      <td>Adult</td>\n",
       "      <td>October</td>\n",
       "      <td>2018</td>\n",
       "    </tr>\n",
       "    <tr>\n",
       "      <th>19</th>\n",
       "      <td>28239393</td>\n",
       "      <td>Male</td>\n",
       "      <td>1978-08-19</td>\n",
       "      <td>AL</td>\n",
       "      <td>569-268-4785</td>\n",
       "      <td>Platinum</td>\n",
       "      <td>68295218</td>\n",
       "      <td>Other driver error</td>\n",
       "      <td>2018-10-23</td>\n",
       "      <td>Auto</td>\n",
       "      <td>No</td>\n",
       "      <td>Material only</td>\n",
       "      <td>1230.0</td>\n",
       "      <td>4.0</td>\n",
       "      <td>No</td>\n",
       "      <td>0</td>\n",
       "      <td>45</td>\n",
       "      <td>Adult</td>\n",
       "      <td>October</td>\n",
       "      <td>2018</td>\n",
       "    </tr>\n",
       "  </tbody>\n",
       "</table>\n",
       "</div>"
      ],
      "text/plain": [
       "    Customer_Id  gender DateOfBirth State       Contact   Segment  claim_id  \\\n",
       "0      93915431    Male  1967-09-08    ME  134-785-1687      Gold  99775483   \n",
       "1      38011078  Female  1976-05-20    NE  271-123-1475      Gold  98795403   \n",
       "2      58451506    Male  1968-04-22    FL  673-574-7823      Gold  43042986   \n",
       "3      46710738    Male  1977-04-28    MO  962-834-9361      Gold  74761374   \n",
       "4      77510822  Female  1986-03-18    AK  436-934-7156    Silver  87329176   \n",
       "5      17682060  Female  1974-11-21    NV  186-195-3465      Gold  49735712   \n",
       "6      40480522  Female  1984-05-30    NV  739-259-6835      Gold  52377605   \n",
       "7      28932340    Male  1996-01-05    LA  652-265-8231      Gold  25213498   \n",
       "8      65208809    Male  1964-04-22    VA  286-128-6132  Platinum  91386759   \n",
       "9      86491727  Female  1997-01-29    IL  294-187-3286      Gold  32178193   \n",
       "10     62861487    Male  1987-08-09    NV  851-758-3157      Gold  39476021   \n",
       "11     51033228    Male  1985-10-13    IN  534-462-2657      Gold  50927161   \n",
       "12     28590552  Female  1964-01-10    TN  189-813-7561    Silver  26678377   \n",
       "13     36126424  Female  1981-02-11    ME  398-768-5283  Platinum   5222877   \n",
       "14     99961993    Male  1995-06-10    AL  234-943-2876  Platinum  47262068   \n",
       "15     18818283  Female  1997-05-03    CT  179-136-6493  Platinum  12799217   \n",
       "16     72081129    Male  1973-04-19    SC  124-584-4261      Gold  87951152   \n",
       "17      6342530  Female  1974-04-05    MO  852-547-4379    Silver  42449662   \n",
       "18      9339845    Male  1969-07-31    MO  976-293-9743      Gold  61586929   \n",
       "19     28239393    Male  1978-08-19    AL  569-268-4785  Platinum  68295218   \n",
       "\n",
       "        incident_cause claim_date claim_area police_report  \\\n",
       "0         Other causes 2018-10-30       Auto            No   \n",
       "1                Crime 2018-10-30       Auto       Unknown   \n",
       "2       Natural causes 2018-10-30       Auto            No   \n",
       "3         Driver error 2018-10-30       Auto            No   \n",
       "4   Other driver error 2018-10-30       Auto       Unknown   \n",
       "5                Crime 2018-10-30       Home       Unknown   \n",
       "6         Driver error 2018-10-30       Auto       Unknown   \n",
       "7         Driver error 2018-10-30       Auto       Unknown   \n",
       "8       Natural causes 2018-10-30       Auto            No   \n",
       "9         Driver error 2018-10-30       Home       Unknown   \n",
       "10        Other causes 2018-10-23       Auto           Yes   \n",
       "11        Driver error 2018-10-23       Auto            No   \n",
       "12        Other causes 2018-10-23       Auto       Unknown   \n",
       "13        Driver error 2018-10-23       Auto       Unknown   \n",
       "14        Driver error 2018-10-23       Home            No   \n",
       "15      Natural causes 2018-10-23       Auto            No   \n",
       "16               Crime 2018-10-23       Auto            No   \n",
       "17  Other driver error 2018-10-23       Home            No   \n",
       "18        Driver error 2018-10-23       Auto            No   \n",
       "19  Other driver error 2018-10-23       Auto            No   \n",
       "\n",
       "             claim_type  claim_amount_in_$  total_policy_claims fraudulent  \\\n",
       "0   Material and injury            42124.5                  1.0        Yes   \n",
       "1         Material only             1940.0                  1.0         No   \n",
       "2         Material only             2420.0                  1.0         No   \n",
       "3         Material only             1830.0                  1.0         No   \n",
       "4         Material only             2740.0                  2.0         No   \n",
       "5   Material and injury            17020.0                  1.0         No   \n",
       "6   Material and injury            26310.0                  1.0         No   \n",
       "7         Material only             2740.0                  1.0         No   \n",
       "8         Material only             2290.0                  1.0         No   \n",
       "9         Material only             1860.0                  1.0         No   \n",
       "10          Injury only            19340.0                  1.0         No   \n",
       "11  Material and injury            30890.0                  2.0         No   \n",
       "12  Material and injury            25160.0                  1.0         No   \n",
       "13  Material and injury            20550.0                  1.0         No   \n",
       "14        Material only             2310.0                  1.0         No   \n",
       "15        Material only             2740.0                  3.0         No   \n",
       "16        Material only             1730.0                  3.0         No   \n",
       "17        Material only             2940.0                  1.0         No   \n",
       "18        Material only             2740.0                  1.0         No   \n",
       "19        Material only             1230.0                  4.0         No   \n",
       "\n",
       "    alert_flag  Age Age_cat claim_month  Claim_Year  \n",
       "0            0   56   Adult     October        2018  \n",
       "1            0   48   Adult     October        2018  \n",
       "2            0   56   Adult     October        2018  \n",
       "3            0   47   Adult     October        2018  \n",
       "4            0   38   Adult     October        2018  \n",
       "5            0   49   Adult     October        2018  \n",
       "6            0   40   Adult     October        2018  \n",
       "7            0   28   Youth     October        2018  \n",
       "8            0   60   Adult     October        2018  \n",
       "9            0   27   Youth     October        2018  \n",
       "10           0   36   Adult     October        2018  \n",
       "11           0   38   Adult     October        2018  \n",
       "12           0   60   Adult     October        2018  \n",
       "13           0   43   Adult     October        2018  \n",
       "14           0   29   Youth     October        2018  \n",
       "15           0   27   Youth     October        2018  \n",
       "16           0   51   Adult     October        2018  \n",
       "17           0   50   Adult     October        2018  \n",
       "18           0   54   Adult     October        2018  \n",
       "19           0   45   Adult     October        2018  "
      ]
     },
     "execution_count": 157,
     "metadata": {},
     "output_type": "execute_result"
    }
   ],
   "source": [
    "claimscustomer['alert_flag'] = claimscustomer.apply(lambda row: 1 if (row['claim_type']== 'Injury only') & (row['police_report']=='No') else 0, axis=1)\n",
    "claimscustomer[:20]"
   ]
  },
  {
   "cell_type": "markdown",
   "id": "907b2030-2e4f-46d9-bbd6-6f776a378791",
   "metadata": {
    "scrolled": true
   },
   "source": [
    "#### Hence, I created alert_flag with 0 and 1, here 0 indicates police_report Yes and 1 indicates police_report No and Unknown"
   ]
  },
  {
   "cell_type": "code",
   "execution_count": null,
   "id": "9f40c061-0f5b-4e5f-bf8b-0458c1a60ed1",
   "metadata": {},
   "outputs": [],
   "source": []
  },
  {
   "cell_type": "markdown",
   "id": "b5daca85-66d5-4248-9a77-f225b72fe58d",
   "metadata": {},
   "source": [
    "### 5. One customer can claim for insurance more than once and in each claim, \n",
    "multiple categories of claims can be involved. However, customer I \r\n",
    "should remain uniqu .\r\n",
    "Retain the most recent observation and delete any duplicated records in\r\n",
    "the data based on the customer ID column"
   ]
  },
  {
   "cell_type": "code",
   "execution_count": 111,
   "id": "3c89aa64-1197-4dee-979f-933b449c1943",
   "metadata": {},
   "outputs": [
    {
     "data": {
      "text/html": [
       "<div>\n",
       "<style scoped>\n",
       "    .dataframe tbody tr th:only-of-type {\n",
       "        vertical-align: middle;\n",
       "    }\n",
       "\n",
       "    .dataframe tbody tr th {\n",
       "        vertical-align: top;\n",
       "    }\n",
       "\n",
       "    .dataframe thead th {\n",
       "        text-align: right;\n",
       "    }\n",
       "</style>\n",
       "<table border=\"1\" class=\"dataframe\">\n",
       "  <thead>\n",
       "    <tr style=\"text-align: right;\">\n",
       "      <th></th>\n",
       "      <th>Customer_Id</th>\n",
       "      <th>gender</th>\n",
       "      <th>DateOfBirth</th>\n",
       "      <th>State</th>\n",
       "      <th>Contact</th>\n",
       "      <th>Segment</th>\n",
       "      <th>claim_id</th>\n",
       "      <th>incident_cause</th>\n",
       "      <th>claim_date</th>\n",
       "      <th>claim_area</th>\n",
       "      <th>police_report</th>\n",
       "      <th>claim_type</th>\n",
       "      <th>claim_amount_in_$</th>\n",
       "      <th>total_policy_claims</th>\n",
       "      <th>fraudulent</th>\n",
       "      <th>alert_flag</th>\n",
       "    </tr>\n",
       "  </thead>\n",
       "  <tbody>\n",
       "    <tr>\n",
       "      <th>0</th>\n",
       "      <td>93915431</td>\n",
       "      <td>Male</td>\n",
       "      <td>1967-09-08</td>\n",
       "      <td>ME</td>\n",
       "      <td>134-785-1687</td>\n",
       "      <td>Gold</td>\n",
       "      <td>99775483</td>\n",
       "      <td>Other causes</td>\n",
       "      <td>2018-10-30</td>\n",
       "      <td>Auto</td>\n",
       "      <td>No</td>\n",
       "      <td>Material and injury</td>\n",
       "      <td>42124.5</td>\n",
       "      <td>1.0</td>\n",
       "      <td>Yes</td>\n",
       "      <td>1</td>\n",
       "    </tr>\n",
       "    <tr>\n",
       "      <th>1</th>\n",
       "      <td>38011078</td>\n",
       "      <td>Female</td>\n",
       "      <td>1976-05-20</td>\n",
       "      <td>NE</td>\n",
       "      <td>271-123-1475</td>\n",
       "      <td>Gold</td>\n",
       "      <td>98795403</td>\n",
       "      <td>Crime</td>\n",
       "      <td>2018-10-30</td>\n",
       "      <td>Auto</td>\n",
       "      <td>Unknown</td>\n",
       "      <td>Material only</td>\n",
       "      <td>1940.0</td>\n",
       "      <td>1.0</td>\n",
       "      <td>No</td>\n",
       "      <td>1</td>\n",
       "    </tr>\n",
       "    <tr>\n",
       "      <th>2</th>\n",
       "      <td>58451506</td>\n",
       "      <td>Male</td>\n",
       "      <td>1968-04-22</td>\n",
       "      <td>FL</td>\n",
       "      <td>673-574-7823</td>\n",
       "      <td>Gold</td>\n",
       "      <td>43042986</td>\n",
       "      <td>Natural causes</td>\n",
       "      <td>2018-10-30</td>\n",
       "      <td>Auto</td>\n",
       "      <td>No</td>\n",
       "      <td>Material only</td>\n",
       "      <td>2420.0</td>\n",
       "      <td>1.0</td>\n",
       "      <td>No</td>\n",
       "      <td>1</td>\n",
       "    </tr>\n",
       "    <tr>\n",
       "      <th>3</th>\n",
       "      <td>46710738</td>\n",
       "      <td>Male</td>\n",
       "      <td>1977-04-28</td>\n",
       "      <td>MO</td>\n",
       "      <td>962-834-9361</td>\n",
       "      <td>Gold</td>\n",
       "      <td>74761374</td>\n",
       "      <td>Driver error</td>\n",
       "      <td>2018-10-30</td>\n",
       "      <td>Auto</td>\n",
       "      <td>No</td>\n",
       "      <td>Material only</td>\n",
       "      <td>1830.0</td>\n",
       "      <td>1.0</td>\n",
       "      <td>No</td>\n",
       "      <td>1</td>\n",
       "    </tr>\n",
       "    <tr>\n",
       "      <th>4</th>\n",
       "      <td>77510822</td>\n",
       "      <td>Female</td>\n",
       "      <td>1986-03-18</td>\n",
       "      <td>AK</td>\n",
       "      <td>436-934-7156</td>\n",
       "      <td>Silver</td>\n",
       "      <td>87329176</td>\n",
       "      <td>Other driver error</td>\n",
       "      <td>2018-10-30</td>\n",
       "      <td>Auto</td>\n",
       "      <td>Unknown</td>\n",
       "      <td>Material only</td>\n",
       "      <td>2740.0</td>\n",
       "      <td>2.0</td>\n",
       "      <td>No</td>\n",
       "      <td>1</td>\n",
       "    </tr>\n",
       "  </tbody>\n",
       "</table>\n",
       "</div>"
      ],
      "text/plain": [
       "   Customer_Id  gender DateOfBirth State       Contact Segment  claim_id  \\\n",
       "0     93915431    Male  1967-09-08    ME  134-785-1687    Gold  99775483   \n",
       "1     38011078  Female  1976-05-20    NE  271-123-1475    Gold  98795403   \n",
       "2     58451506    Male  1968-04-22    FL  673-574-7823    Gold  43042986   \n",
       "3     46710738    Male  1977-04-28    MO  962-834-9361    Gold  74761374   \n",
       "4     77510822  Female  1986-03-18    AK  436-934-7156  Silver  87329176   \n",
       "\n",
       "       incident_cause claim_date claim_area police_report  \\\n",
       "0        Other causes 2018-10-30       Auto            No   \n",
       "1               Crime 2018-10-30       Auto       Unknown   \n",
       "2      Natural causes 2018-10-30       Auto            No   \n",
       "3        Driver error 2018-10-30       Auto            No   \n",
       "4  Other driver error 2018-10-30       Auto       Unknown   \n",
       "\n",
       "            claim_type  claim_amount_in_$  total_policy_claims fraudulent  \\\n",
       "0  Material and injury            42124.5                  1.0        Yes   \n",
       "1        Material only             1940.0                  1.0         No   \n",
       "2        Material only             2420.0                  1.0         No   \n",
       "3        Material only             1830.0                  1.0         No   \n",
       "4        Material only             2740.0                  2.0         No   \n",
       "\n",
       "   alert_flag  \n",
       "0           1  \n",
       "1           1  \n",
       "2           1  \n",
       "3           1  \n",
       "4           1  "
      ]
     },
     "execution_count": 111,
     "metadata": {},
     "output_type": "execute_result"
    }
   ],
   "source": [
    "claimscustomer['claim_date'] = pd.to_datetime(claimscustomer['claim_date'])\n",
    "claimscustomer = claimscustomer.sort_values(by='claim_date', ascending=False)\n",
    "claimscustomer = claimscustomer.drop_duplicates(subset='Customer_Id', keep='first').reset_index(drop = True)\n",
    "claimscustomer.head(5)"
   ]
  },
  {
   "cell_type": "markdown",
   "id": "d0ad0d01-5168-4dbf-bf88-4acbedee010b",
   "metadata": {},
   "source": [
    "### 6. Check for missing values and impute the missing values with an appropriate value. (mean for continuous and mode for categorical)"
   ]
  },
  {
   "cell_type": "code",
   "execution_count": 112,
   "id": "eeb4d345-d977-434d-99f1-7f0c33dae02c",
   "metadata": {},
   "outputs": [],
   "source": [
    "#for claim_amount column i have already replaced values with median "
   ]
  },
  {
   "cell_type": "code",
   "execution_count": 113,
   "id": "4f14874c-e318-4b62-a712-acb34358796e",
   "metadata": {},
   "outputs": [
    {
     "data": {
      "text/plain": [
       "Customer_Id             0\n",
       "gender                  0\n",
       "DateOfBirth             0\n",
       "State                   0\n",
       "Contact                 0\n",
       "Segment                 0\n",
       "claim_id                0\n",
       "incident_cause          0\n",
       "claim_date              0\n",
       "claim_area              0\n",
       "police_report           0\n",
       "claim_type              0\n",
       "claim_amount_in_$       0\n",
       "total_policy_claims    10\n",
       "fraudulent              0\n",
       "alert_flag              0\n",
       "dtype: int64"
      ]
     },
     "execution_count": 113,
     "metadata": {},
     "output_type": "execute_result"
    }
   ],
   "source": [
    "claimscustomer.isna().sum()"
   ]
  },
  {
   "cell_type": "code",
   "execution_count": 114,
   "id": "4f871969-3f9d-4dde-9e90-421082f7008d",
   "metadata": {},
   "outputs": [],
   "source": [
    "cat_var=['incident_cause','claim_area','police_report','claim_type','fraudulent']\n",
    "cont_var=['total_policy_claims']\n",
    "\n",
    "claimscustomer[cat_var]=claimscustomer[cat_var].fillna(claimscustomer.mode().iloc[0])\n",
    "\n",
    "claimscustomer[cont_var]=claimscustomer[cont_var].fillna(claimscustomer[cont_var].mean())"
   ]
  },
  {
   "cell_type": "code",
   "execution_count": 115,
   "id": "ecce7509-89d9-4dbe-9c29-9cea5a58a806",
   "metadata": {},
   "outputs": [
    {
     "data": {
      "text/plain": [
       "Customer_Id            0\n",
       "gender                 0\n",
       "DateOfBirth            0\n",
       "State                  0\n",
       "Contact                0\n",
       "Segment                0\n",
       "claim_id               0\n",
       "incident_cause         0\n",
       "claim_date             0\n",
       "claim_area             0\n",
       "police_report          0\n",
       "claim_type             0\n",
       "claim_amount_in_$      0\n",
       "total_policy_claims    0\n",
       "fraudulent             0\n",
       "alert_flag             0\n",
       "dtype: int64"
      ]
     },
     "execution_count": 115,
     "metadata": {},
     "output_type": "execute_result"
    }
   ],
   "source": [
    "claimscustomer.isna().sum()"
   ]
  },
  {
   "cell_type": "markdown",
   "id": "3babbdd2-f2cc-46f3-bc1a-d685848f3cb2",
   "metadata": {},
   "source": [
    "#For the claim_id and claim_date columns, we will not replace the NA values because these columns are non-replaceable.\""
   ]
  },
  {
   "cell_type": "code",
   "execution_count": null,
   "id": "a8665910-fe49-4582-a95c-386e6ddb54d7",
   "metadata": {},
   "outputs": [],
   "source": []
  },
  {
   "cell_type": "markdown",
   "id": "0613d08c-9d01-4ee2-99db-3c06aa640f41",
   "metadata": {},
   "source": [
    "### 7 Calculate the age of customers in years. Based on the age, categorize the customers according to the below criteria\n",
    "Children < 18\n",
    "\n",
    "Youth 18-30\n",
    "\n",
    "Adult 30-60\n",
    "\n",
    "Senior > 60"
   ]
  },
  {
   "cell_type": "code",
   "execution_count": 116,
   "id": "3cff9cc8-cbcd-44ee-bec3-70e26f35f87f",
   "metadata": {},
   "outputs": [],
   "source": [
    "import datetime as dt\n",
    "date=dt.datetime.now()-claimscustomer.DateOfBirth\n",
    "claimscustomer['Age']=date.apply(lambda x: x.days / 365)\n",
    "claimscustomer['Age']=claimscustomer['Age'].astype('int64')"
   ]
  },
  {
   "cell_type": "code",
   "execution_count": 117,
   "id": "9e585f92-fba0-46ea-8109-19abf9185cb8",
   "metadata": {},
   "outputs": [],
   "source": [
    "date= [\n",
    "    (claimscustomer['Age'] < 18),\n",
    "    (claimscustomer['Age'] >= 18) & (claimscustomer['Age'] <= 30),\n",
    "    (claimscustomer['Age'] > 30) & (claimscustomer['Age'] <= 60),\n",
    "    (claimscustomer['Age'] > 60)\n",
    "]\n",
    "choices = ['Children', 'Youth', 'Adult', 'Senior']\n",
    "claimscustomer['Age_cat'] = np.select(date, choices, default='Unknown')"
   ]
  },
  {
   "cell_type": "code",
   "execution_count": null,
   "id": "8ace1e23-db6f-4014-a36d-02f0eaf12957",
   "metadata": {},
   "outputs": [],
   "source": []
  },
  {
   "cell_type": "code",
   "execution_count": 118,
   "id": "4f04f9b2-4171-44ac-ba32-d04a40d5fea9",
   "metadata": {},
   "outputs": [
    {
     "data": {
      "text/html": [
       "<div>\n",
       "<style scoped>\n",
       "    .dataframe tbody tr th:only-of-type {\n",
       "        vertical-align: middle;\n",
       "    }\n",
       "\n",
       "    .dataframe tbody tr th {\n",
       "        vertical-align: top;\n",
       "    }\n",
       "\n",
       "    .dataframe thead th {\n",
       "        text-align: right;\n",
       "    }\n",
       "</style>\n",
       "<table border=\"1\" class=\"dataframe\">\n",
       "  <thead>\n",
       "    <tr style=\"text-align: right;\">\n",
       "      <th></th>\n",
       "      <th>Customer_Id</th>\n",
       "      <th>gender</th>\n",
       "      <th>DateOfBirth</th>\n",
       "      <th>State</th>\n",
       "      <th>Contact</th>\n",
       "      <th>Segment</th>\n",
       "      <th>claim_id</th>\n",
       "      <th>incident_cause</th>\n",
       "      <th>claim_date</th>\n",
       "      <th>claim_area</th>\n",
       "      <th>police_report</th>\n",
       "      <th>claim_type</th>\n",
       "      <th>claim_amount_in_$</th>\n",
       "      <th>total_policy_claims</th>\n",
       "      <th>fraudulent</th>\n",
       "      <th>alert_flag</th>\n",
       "      <th>Age</th>\n",
       "      <th>Age_cat</th>\n",
       "    </tr>\n",
       "  </thead>\n",
       "  <tbody>\n",
       "    <tr>\n",
       "      <th>0</th>\n",
       "      <td>93915431</td>\n",
       "      <td>Male</td>\n",
       "      <td>1967-09-08</td>\n",
       "      <td>ME</td>\n",
       "      <td>134-785-1687</td>\n",
       "      <td>Gold</td>\n",
       "      <td>99775483</td>\n",
       "      <td>Other causes</td>\n",
       "      <td>2018-10-30</td>\n",
       "      <td>Auto</td>\n",
       "      <td>No</td>\n",
       "      <td>Material and injury</td>\n",
       "      <td>42124.5</td>\n",
       "      <td>1.0</td>\n",
       "      <td>Yes</td>\n",
       "      <td>1</td>\n",
       "      <td>56</td>\n",
       "      <td>Adult</td>\n",
       "    </tr>\n",
       "    <tr>\n",
       "      <th>1</th>\n",
       "      <td>38011078</td>\n",
       "      <td>Female</td>\n",
       "      <td>1976-05-20</td>\n",
       "      <td>NE</td>\n",
       "      <td>271-123-1475</td>\n",
       "      <td>Gold</td>\n",
       "      <td>98795403</td>\n",
       "      <td>Crime</td>\n",
       "      <td>2018-10-30</td>\n",
       "      <td>Auto</td>\n",
       "      <td>Unknown</td>\n",
       "      <td>Material only</td>\n",
       "      <td>1940.0</td>\n",
       "      <td>1.0</td>\n",
       "      <td>No</td>\n",
       "      <td>1</td>\n",
       "      <td>48</td>\n",
       "      <td>Adult</td>\n",
       "    </tr>\n",
       "    <tr>\n",
       "      <th>2</th>\n",
       "      <td>58451506</td>\n",
       "      <td>Male</td>\n",
       "      <td>1968-04-22</td>\n",
       "      <td>FL</td>\n",
       "      <td>673-574-7823</td>\n",
       "      <td>Gold</td>\n",
       "      <td>43042986</td>\n",
       "      <td>Natural causes</td>\n",
       "      <td>2018-10-30</td>\n",
       "      <td>Auto</td>\n",
       "      <td>No</td>\n",
       "      <td>Material only</td>\n",
       "      <td>2420.0</td>\n",
       "      <td>1.0</td>\n",
       "      <td>No</td>\n",
       "      <td>1</td>\n",
       "      <td>56</td>\n",
       "      <td>Adult</td>\n",
       "    </tr>\n",
       "    <tr>\n",
       "      <th>3</th>\n",
       "      <td>46710738</td>\n",
       "      <td>Male</td>\n",
       "      <td>1977-04-28</td>\n",
       "      <td>MO</td>\n",
       "      <td>962-834-9361</td>\n",
       "      <td>Gold</td>\n",
       "      <td>74761374</td>\n",
       "      <td>Driver error</td>\n",
       "      <td>2018-10-30</td>\n",
       "      <td>Auto</td>\n",
       "      <td>No</td>\n",
       "      <td>Material only</td>\n",
       "      <td>1830.0</td>\n",
       "      <td>1.0</td>\n",
       "      <td>No</td>\n",
       "      <td>1</td>\n",
       "      <td>47</td>\n",
       "      <td>Adult</td>\n",
       "    </tr>\n",
       "    <tr>\n",
       "      <th>4</th>\n",
       "      <td>77510822</td>\n",
       "      <td>Female</td>\n",
       "      <td>1986-03-18</td>\n",
       "      <td>AK</td>\n",
       "      <td>436-934-7156</td>\n",
       "      <td>Silver</td>\n",
       "      <td>87329176</td>\n",
       "      <td>Other driver error</td>\n",
       "      <td>2018-10-30</td>\n",
       "      <td>Auto</td>\n",
       "      <td>Unknown</td>\n",
       "      <td>Material only</td>\n",
       "      <td>2740.0</td>\n",
       "      <td>2.0</td>\n",
       "      <td>No</td>\n",
       "      <td>1</td>\n",
       "      <td>38</td>\n",
       "      <td>Adult</td>\n",
       "    </tr>\n",
       "    <tr>\n",
       "      <th>...</th>\n",
       "      <td>...</td>\n",
       "      <td>...</td>\n",
       "      <td>...</td>\n",
       "      <td>...</td>\n",
       "      <td>...</td>\n",
       "      <td>...</td>\n",
       "      <td>...</td>\n",
       "      <td>...</td>\n",
       "      <td>...</td>\n",
       "      <td>...</td>\n",
       "      <td>...</td>\n",
       "      <td>...</td>\n",
       "      <td>...</td>\n",
       "      <td>...</td>\n",
       "      <td>...</td>\n",
       "      <td>...</td>\n",
       "      <td>...</td>\n",
       "      <td>...</td>\n",
       "    </tr>\n",
       "    <tr>\n",
       "      <th>1073</th>\n",
       "      <td>77219712</td>\n",
       "      <td>Female</td>\n",
       "      <td>1999-08-05</td>\n",
       "      <td>NH</td>\n",
       "      <td>649-592-8793</td>\n",
       "      <td>Platinum</td>\n",
       "      <td>61374372</td>\n",
       "      <td>Other causes</td>\n",
       "      <td>2017-01-01</td>\n",
       "      <td>Auto</td>\n",
       "      <td>No</td>\n",
       "      <td>Material and injury</td>\n",
       "      <td>20200.0</td>\n",
       "      <td>1.0</td>\n",
       "      <td>No</td>\n",
       "      <td>1</td>\n",
       "      <td>24</td>\n",
       "      <td>Youth</td>\n",
       "    </tr>\n",
       "    <tr>\n",
       "      <th>1074</th>\n",
       "      <td>42664554</td>\n",
       "      <td>Female</td>\n",
       "      <td>1993-08-13</td>\n",
       "      <td>TN</td>\n",
       "      <td>396-973-2531</td>\n",
       "      <td>Gold</td>\n",
       "      <td>42280334</td>\n",
       "      <td>Other causes</td>\n",
       "      <td>2017-01-01</td>\n",
       "      <td>Auto</td>\n",
       "      <td>No</td>\n",
       "      <td>Injury only</td>\n",
       "      <td>27670.0</td>\n",
       "      <td>1.0</td>\n",
       "      <td>No</td>\n",
       "      <td>1</td>\n",
       "      <td>30</td>\n",
       "      <td>Youth</td>\n",
       "    </tr>\n",
       "    <tr>\n",
       "      <th>1075</th>\n",
       "      <td>64840478</td>\n",
       "      <td>Female</td>\n",
       "      <td>1974-02-14</td>\n",
       "      <td>NM</td>\n",
       "      <td>918-174-7461</td>\n",
       "      <td>Silver</td>\n",
       "      <td>23636125</td>\n",
       "      <td>Other driver error</td>\n",
       "      <td>2017-01-01</td>\n",
       "      <td>Auto</td>\n",
       "      <td>Unknown</td>\n",
       "      <td>Material and injury</td>\n",
       "      <td>17290.0</td>\n",
       "      <td>1.0</td>\n",
       "      <td>No</td>\n",
       "      <td>1</td>\n",
       "      <td>50</td>\n",
       "      <td>Adult</td>\n",
       "    </tr>\n",
       "    <tr>\n",
       "      <th>1076</th>\n",
       "      <td>74155265</td>\n",
       "      <td>Male</td>\n",
       "      <td>1985-11-16</td>\n",
       "      <td>TX</td>\n",
       "      <td>392-739-4873</td>\n",
       "      <td>Gold</td>\n",
       "      <td>25647821</td>\n",
       "      <td>Natural causes</td>\n",
       "      <td>2017-01-01</td>\n",
       "      <td>Auto</td>\n",
       "      <td>No</td>\n",
       "      <td>Material only</td>\n",
       "      <td>2080.0</td>\n",
       "      <td>1.0</td>\n",
       "      <td>No</td>\n",
       "      <td>1</td>\n",
       "      <td>38</td>\n",
       "      <td>Adult</td>\n",
       "    </tr>\n",
       "    <tr>\n",
       "      <th>1077</th>\n",
       "      <td>61745840</td>\n",
       "      <td>Female</td>\n",
       "      <td>1994-07-24</td>\n",
       "      <td>MA</td>\n",
       "      <td>612-684-5472</td>\n",
       "      <td>Platinum</td>\n",
       "      <td>90591192</td>\n",
       "      <td>Other driver error</td>\n",
       "      <td>2017-01-01</td>\n",
       "      <td>Home</td>\n",
       "      <td>No</td>\n",
       "      <td>Material and injury</td>\n",
       "      <td>30930.0</td>\n",
       "      <td>1.0</td>\n",
       "      <td>No</td>\n",
       "      <td>1</td>\n",
       "      <td>29</td>\n",
       "      <td>Youth</td>\n",
       "    </tr>\n",
       "  </tbody>\n",
       "</table>\n",
       "<p>1078 rows × 18 columns</p>\n",
       "</div>"
      ],
      "text/plain": [
       "      Customer_Id  gender DateOfBirth State       Contact   Segment  claim_id  \\\n",
       "0        93915431    Male  1967-09-08    ME  134-785-1687      Gold  99775483   \n",
       "1        38011078  Female  1976-05-20    NE  271-123-1475      Gold  98795403   \n",
       "2        58451506    Male  1968-04-22    FL  673-574-7823      Gold  43042986   \n",
       "3        46710738    Male  1977-04-28    MO  962-834-9361      Gold  74761374   \n",
       "4        77510822  Female  1986-03-18    AK  436-934-7156    Silver  87329176   \n",
       "...           ...     ...         ...   ...           ...       ...       ...   \n",
       "1073     77219712  Female  1999-08-05    NH  649-592-8793  Platinum  61374372   \n",
       "1074     42664554  Female  1993-08-13    TN  396-973-2531      Gold  42280334   \n",
       "1075     64840478  Female  1974-02-14    NM  918-174-7461    Silver  23636125   \n",
       "1076     74155265    Male  1985-11-16    TX  392-739-4873      Gold  25647821   \n",
       "1077     61745840  Female  1994-07-24    MA  612-684-5472  Platinum  90591192   \n",
       "\n",
       "          incident_cause claim_date claim_area police_report  \\\n",
       "0           Other causes 2018-10-30       Auto            No   \n",
       "1                  Crime 2018-10-30       Auto       Unknown   \n",
       "2         Natural causes 2018-10-30       Auto            No   \n",
       "3           Driver error 2018-10-30       Auto            No   \n",
       "4     Other driver error 2018-10-30       Auto       Unknown   \n",
       "...                  ...        ...        ...           ...   \n",
       "1073        Other causes 2017-01-01       Auto            No   \n",
       "1074        Other causes 2017-01-01       Auto            No   \n",
       "1075  Other driver error 2017-01-01       Auto       Unknown   \n",
       "1076      Natural causes 2017-01-01       Auto            No   \n",
       "1077  Other driver error 2017-01-01       Home            No   \n",
       "\n",
       "               claim_type  claim_amount_in_$  total_policy_claims fraudulent  \\\n",
       "0     Material and injury            42124.5                  1.0        Yes   \n",
       "1           Material only             1940.0                  1.0         No   \n",
       "2           Material only             2420.0                  1.0         No   \n",
       "3           Material only             1830.0                  1.0         No   \n",
       "4           Material only             2740.0                  2.0         No   \n",
       "...                   ...                ...                  ...        ...   \n",
       "1073  Material and injury            20200.0                  1.0         No   \n",
       "1074          Injury only            27670.0                  1.0         No   \n",
       "1075  Material and injury            17290.0                  1.0         No   \n",
       "1076        Material only             2080.0                  1.0         No   \n",
       "1077  Material and injury            30930.0                  1.0         No   \n",
       "\n",
       "      alert_flag  Age Age_cat  \n",
       "0              1   56   Adult  \n",
       "1              1   48   Adult  \n",
       "2              1   56   Adult  \n",
       "3              1   47   Adult  \n",
       "4              1   38   Adult  \n",
       "...          ...  ...     ...  \n",
       "1073           1   24   Youth  \n",
       "1074           1   30   Youth  \n",
       "1075           1   50   Adult  \n",
       "1076           1   38   Adult  \n",
       "1077           1   29   Youth  \n",
       "\n",
       "[1078 rows x 18 columns]"
      ]
     },
     "execution_count": 118,
     "metadata": {},
     "output_type": "execute_result"
    }
   ],
   "source": [
    "claimscustomer"
   ]
  },
  {
   "cell_type": "code",
   "execution_count": null,
   "id": "6569ea46-419e-4c7b-9761-d01062e27103",
   "metadata": {},
   "outputs": [],
   "source": []
  },
  {
   "cell_type": "markdown",
   "id": "b2be0ef5-a28c-4d97-9cf9-598a8eccfca5",
   "metadata": {},
   "source": [
    "### 8. What is the average amount claimed by the customers from various segments?"
   ]
  },
  {
   "cell_type": "code",
   "execution_count": 119,
   "id": "4928db53-c81f-4799-ae5a-8aee0f75513a",
   "metadata": {},
   "outputs": [
    {
     "name": "stdout",
     "output_type": "stream",
     "text": [
      "          claim_amount_in_$\n",
      "Segment                    \n",
      "Gold                12268.0\n",
      "Platinum            11966.0\n",
      "Silver              11478.0\n"
     ]
    }
   ],
   "source": [
    "claimsbysegments=claimscustomer.groupby('Segment')[['claim_amount_in_$']].mean().round()\n",
    "print(claimsbysegments)"
   ]
  },
  {
   "cell_type": "code",
   "execution_count": 120,
   "id": "f4e9f1cf-051b-4f86-b0f1-e4f8577b56c9",
   "metadata": {},
   "outputs": [
    {
     "data": {
      "text/html": [
       "<div>\n",
       "<style scoped>\n",
       "    .dataframe tbody tr th:only-of-type {\n",
       "        vertical-align: middle;\n",
       "    }\n",
       "\n",
       "    .dataframe tbody tr th {\n",
       "        vertical-align: top;\n",
       "    }\n",
       "\n",
       "    .dataframe thead th {\n",
       "        text-align: right;\n",
       "    }\n",
       "</style>\n",
       "<table border=\"1\" class=\"dataframe\">\n",
       "  <thead>\n",
       "    <tr style=\"text-align: right;\">\n",
       "      <th></th>\n",
       "      <th>claim_amount_in_$</th>\n",
       "    </tr>\n",
       "    <tr>\n",
       "      <th>Segment</th>\n",
       "      <th></th>\n",
       "    </tr>\n",
       "  </thead>\n",
       "  <tbody>\n",
       "    <tr>\n",
       "      <th>Gold</th>\n",
       "      <td>12268.0</td>\n",
       "    </tr>\n",
       "    <tr>\n",
       "      <th>Platinum</th>\n",
       "      <td>11966.0</td>\n",
       "    </tr>\n",
       "    <tr>\n",
       "      <th>Silver</th>\n",
       "      <td>11478.0</td>\n",
       "    </tr>\n",
       "  </tbody>\n",
       "</table>\n",
       "</div>"
      ],
      "text/plain": [
       "          claim_amount_in_$\n",
       "Segment                    \n",
       "Gold                12268.0\n",
       "Platinum            11966.0\n",
       "Silver              11478.0"
      ]
     },
     "execution_count": 120,
     "metadata": {},
     "output_type": "execute_result"
    }
   ],
   "source": [
    "\n",
    "round(claimscustomer.groupby('Segment')[['claim_amount_in_$']].mean())"
   ]
  },
  {
   "cell_type": "markdown",
   "id": "1fba07a5-4202-4a37-b01b-2c92d8046dfa",
   "metadata": {},
   "source": [
    "### 9. What is the total claim amount based on incident cause for all the claims that have been done at least 20 days prior to 1st of October, 2018."
   ]
  },
  {
   "cell_type": "code",
   "execution_count": 121,
   "id": "db75585d-adb7-44f3-b313-d86f6d148a23",
   "metadata": {},
   "outputs": [
    {
     "data": {
      "text/html": [
       "<div>\n",
       "<style scoped>\n",
       "    .dataframe tbody tr th:only-of-type {\n",
       "        vertical-align: middle;\n",
       "    }\n",
       "\n",
       "    .dataframe tbody tr th {\n",
       "        vertical-align: top;\n",
       "    }\n",
       "\n",
       "    .dataframe thead th {\n",
       "        text-align: right;\n",
       "    }\n",
       "</style>\n",
       "<table border=\"1\" class=\"dataframe\">\n",
       "  <thead>\n",
       "    <tr style=\"text-align: right;\">\n",
       "      <th></th>\n",
       "      <th>total_claim_amount_in_$</th>\n",
       "    </tr>\n",
       "    <tr>\n",
       "      <th>incident_cause</th>\n",
       "      <th></th>\n",
       "    </tr>\n",
       "  </thead>\n",
       "  <tbody>\n",
       "    <tr>\n",
       "      <th>Crime</th>\n",
       "      <td>351891.0</td>\n",
       "    </tr>\n",
       "    <tr>\n",
       "      <th>Driver error</th>\n",
       "      <td>1866762.0</td>\n",
       "    </tr>\n",
       "    <tr>\n",
       "      <th>Natural causes</th>\n",
       "      <td>653430.0</td>\n",
       "    </tr>\n",
       "    <tr>\n",
       "      <th>Other causes</th>\n",
       "      <td>2152220.0</td>\n",
       "    </tr>\n",
       "    <tr>\n",
       "      <th>Other driver error</th>\n",
       "      <td>1730338.0</td>\n",
       "    </tr>\n",
       "  </tbody>\n",
       "</table>\n",
       "</div>"
      ],
      "text/plain": [
       "                    total_claim_amount_in_$\n",
       "incident_cause                             \n",
       "Crime                              351891.0\n",
       "Driver error                      1866762.0\n",
       "Natural causes                     653430.0\n",
       "Other causes                      2152220.0\n",
       "Other driver error                1730338.0"
      ]
     },
     "execution_count": 121,
     "metadata": {},
     "output_type": "execute_result"
    }
   ],
   "source": [
    "claimscustomer.loc[claimscustomer.claim_date < pd.to_datetime('01-10-2018')-dt.timedelta(days=20)].groupby('incident_cause')[['claim_amount_in_$']].sum().add_prefix(\"total_\").round()"
   ]
  },
  {
   "cell_type": "code",
   "execution_count": 122,
   "id": "cb73b5fd-2b76-4527-93e7-314ffdf30243",
   "metadata": {},
   "outputs": [
    {
     "data": {
      "text/html": [
       "<div>\n",
       "<style scoped>\n",
       "    .dataframe tbody tr th:only-of-type {\n",
       "        vertical-align: middle;\n",
       "    }\n",
       "\n",
       "    .dataframe tbody tr th {\n",
       "        vertical-align: top;\n",
       "    }\n",
       "\n",
       "    .dataframe thead th {\n",
       "        text-align: right;\n",
       "    }\n",
       "</style>\n",
       "<table border=\"1\" class=\"dataframe\">\n",
       "  <thead>\n",
       "    <tr style=\"text-align: right;\">\n",
       "      <th></th>\n",
       "      <th>Customer_Id</th>\n",
       "      <th>gender</th>\n",
       "      <th>DateOfBirth</th>\n",
       "      <th>State</th>\n",
       "      <th>Contact</th>\n",
       "      <th>Segment</th>\n",
       "      <th>claim_id</th>\n",
       "      <th>incident_cause</th>\n",
       "      <th>claim_date</th>\n",
       "      <th>claim_area</th>\n",
       "      <th>police_report</th>\n",
       "      <th>claim_type</th>\n",
       "      <th>claim_amount_in_$</th>\n",
       "      <th>total_policy_claims</th>\n",
       "      <th>fraudulent</th>\n",
       "      <th>alert_flag</th>\n",
       "      <th>Age</th>\n",
       "      <th>Age_cat</th>\n",
       "    </tr>\n",
       "  </thead>\n",
       "  <tbody>\n",
       "    <tr>\n",
       "      <th>0</th>\n",
       "      <td>93915431</td>\n",
       "      <td>Male</td>\n",
       "      <td>1967-09-08</td>\n",
       "      <td>ME</td>\n",
       "      <td>134-785-1687</td>\n",
       "      <td>Gold</td>\n",
       "      <td>99775483</td>\n",
       "      <td>Other causes</td>\n",
       "      <td>2018-10-30</td>\n",
       "      <td>Auto</td>\n",
       "      <td>No</td>\n",
       "      <td>Material and injury</td>\n",
       "      <td>42124.5</td>\n",
       "      <td>1.0</td>\n",
       "      <td>Yes</td>\n",
       "      <td>1</td>\n",
       "      <td>56</td>\n",
       "      <td>Adult</td>\n",
       "    </tr>\n",
       "  </tbody>\n",
       "</table>\n",
       "</div>"
      ],
      "text/plain": [
       "   Customer_Id gender DateOfBirth State       Contact Segment  claim_id  \\\n",
       "0     93915431   Male  1967-09-08    ME  134-785-1687    Gold  99775483   \n",
       "\n",
       "  incident_cause claim_date claim_area police_report           claim_type  \\\n",
       "0   Other causes 2018-10-30       Auto            No  Material and injury   \n",
       "\n",
       "   claim_amount_in_$  total_policy_claims fraudulent  alert_flag  Age Age_cat  \n",
       "0            42124.5                  1.0        Yes           1   56   Adult  "
      ]
     },
     "execution_count": 122,
     "metadata": {},
     "output_type": "execute_result"
    }
   ],
   "source": [
    "claimscustomer.head(1)"
   ]
  },
  {
   "cell_type": "markdown",
   "id": "179e9a89-5118-4452-8c20-a133ee964b25",
   "metadata": {},
   "source": [
    "### 10. How many adults from TX, DE and AK claimed insurance for driver related issues and causes? "
   ]
  },
  {
   "cell_type": "code",
   "execution_count": 123,
   "id": "4a53c351-e7f7-43fd-9bf3-57c07fad3e34",
   "metadata": {},
   "outputs": [
    {
     "data": {
      "text/plain": [
       "28"
      ]
     },
     "execution_count": 123,
     "metadata": {},
     "output_type": "execute_result"
    }
   ],
   "source": [
    "claimscustomer[(claimscustomer['Age_cat'] == 'Adult')&(claimscustomer['State'].isin(['TX','DE','AK']))&(claimscustomer['incident_cause'].str.contains('driver' , case=False))].shape[0]\n"
   ]
  },
  {
   "cell_type": "markdown",
   "id": "73b71854-8b97-4dbc-9517-5c82ab3e586c",
   "metadata": {},
   "source": [
    "#### Hence,adults from TX, DE and AK claimed insurance for driver related issues and causes are 28"
   ]
  },
  {
   "cell_type": "code",
   "execution_count": null,
   "id": "248ecf9c-acb2-4475-bc04-37194aa41b01",
   "metadata": {},
   "outputs": [],
   "source": []
  },
  {
   "cell_type": "markdown",
   "id": "8ef955fe-5b25-44c6-b356-4dc6d0b93703",
   "metadata": {},
   "source": [
    "### 11. Draw a pie chart between the aggregated value of claim amount based on gender and segment. Represent the claim amount as a percentage on the pie chart."
   ]
  },
  {
   "cell_type": "code",
   "execution_count": 124,
   "id": "e04ccc67-2ec4-42ed-bbf9-77483d2577b1",
   "metadata": {},
   "outputs": [
    {
     "data": {
      "text/html": [
       "<div>\n",
       "<style scoped>\n",
       "    .dataframe tbody tr th:only-of-type {\n",
       "        vertical-align: middle;\n",
       "    }\n",
       "\n",
       "    .dataframe tbody tr th {\n",
       "        vertical-align: top;\n",
       "    }\n",
       "\n",
       "    .dataframe thead th {\n",
       "        text-align: right;\n",
       "    }\n",
       "</style>\n",
       "<table border=\"1\" class=\"dataframe\">\n",
       "  <thead>\n",
       "    <tr style=\"text-align: right;\">\n",
       "      <th>gender</th>\n",
       "      <th>Female</th>\n",
       "      <th>Male</th>\n",
       "    </tr>\n",
       "    <tr>\n",
       "      <th>Segment</th>\n",
       "      <th></th>\n",
       "      <th></th>\n",
       "    </tr>\n",
       "  </thead>\n",
       "  <tbody>\n",
       "    <tr>\n",
       "      <th>Gold</th>\n",
       "      <td>16.0</td>\n",
       "      <td>20.0</td>\n",
       "    </tr>\n",
       "    <tr>\n",
       "      <th>Platinum</th>\n",
       "      <td>18.0</td>\n",
       "      <td>16.0</td>\n",
       "    </tr>\n",
       "    <tr>\n",
       "      <th>Silver</th>\n",
       "      <td>14.0</td>\n",
       "      <td>17.0</td>\n",
       "    </tr>\n",
       "  </tbody>\n",
       "</table>\n",
       "</div>"
      ],
      "text/plain": [
       "gender    Female  Male\n",
       "Segment               \n",
       "Gold        16.0  20.0\n",
       "Platinum    18.0  16.0\n",
       "Silver      14.0  17.0"
      ]
     },
     "execution_count": 124,
     "metadata": {},
     "output_type": "execute_result"
    }
   ],
   "source": [
    "claimamt=round(claimscustomer.groupby(['Segment','gender'])['claim_amount_in_$'].sum()/claimscustomer['claim_amount_in_$'].sum()*100).reset_index()\n",
    "gen_seg_amt=claimamt.pivot_table(index='Segment',columns='gender',values='claim_amount_in_$')\n",
    "gen_seg_amt"
   ]
  },
  {
   "cell_type": "code",
   "execution_count": 125,
   "id": "2934c273-0128-4d05-8699-f736816f19a2",
   "metadata": {},
   "outputs": [
    {
     "data": {
      "image/png": "[encoded data removed]",
      "text/plain": [
       "<Figure size 1500x700 with 2 Axes>"
      ]
     },
     "metadata": {},
     "output_type": "display_data"
    }
   ],
   "source": [
    "gen_seg_amt.plot(kind='pie',subplots=True,figsize=(15,7),legend=True,fontsize=15,autopct='%1.1f%%')\n",
    "plt.show()"
   ]
  },
  {
   "cell_type": "markdown",
   "id": "4f4d8a7a-fbe6-4b4c-b641-8fbbc6146b03",
   "metadata": {},
   "source": [
    "#                                                                    OR"
   ]
  },
  {
   "cell_type": "code",
   "execution_count": 126,
   "id": "19dce39a-b910-421d-b2f8-2b8557e61a0d",
   "metadata": {},
   "outputs": [
    {
     "data": {
      "image/png": "[encoded data removed]",
      "text/plain": [
       "<Figure size 1500x700 with 3 Axes>"
      ]
     },
     "metadata": {},
     "output_type": "display_data"
    }
   ],
   "source": [
    "gen_seg_amt.T.plot(kind='pie',subplots=True,figsize=(15,7),legend=True,fontsize=15,autopct='%1.1f%%')\n",
    "plt.show()"
   ]
  },
  {
   "cell_type": "code",
   "execution_count": null,
   "id": "552bec43-3b03-4ed3-9681-847af8ec41f7",
   "metadata": {},
   "outputs": [],
   "source": []
  },
  {
   "cell_type": "markdown",
   "id": "ed3d07c7-90de-4b5e-95d1-7dba34acb405",
   "metadata": {},
   "source": [
    "### 12. Among males and females, which gender had claimed the most for any type of driver related issues? E.g. This metric can be compared using a bar chart"
   ]
  },
  {
   "cell_type": "code",
   "execution_count": 127,
   "id": "8d812b67-a620-4c57-bb81-20f6bbafbbdb",
   "metadata": {},
   "outputs": [
    {
     "data": {
      "text/html": [
       "<div>\n",
       "<style scoped>\n",
       "    .dataframe tbody tr th:only-of-type {\n",
       "        vertical-align: middle;\n",
       "    }\n",
       "\n",
       "    .dataframe tbody tr th {\n",
       "        vertical-align: top;\n",
       "    }\n",
       "\n",
       "    .dataframe thead th {\n",
       "        text-align: right;\n",
       "    }\n",
       "</style>\n",
       "<table border=\"1\" class=\"dataframe\">\n",
       "  <thead>\n",
       "    <tr style=\"text-align: right;\">\n",
       "      <th></th>\n",
       "      <th>gender</th>\n",
       "      <th>claim_amount_in_$</th>\n",
       "    </tr>\n",
       "  </thead>\n",
       "  <tbody>\n",
       "    <tr>\n",
       "      <th>0</th>\n",
       "      <td>Female</td>\n",
       "      <td>3009815.5</td>\n",
       "    </tr>\n",
       "    <tr>\n",
       "      <th>1</th>\n",
       "      <td>Male</td>\n",
       "      <td>3809462.5</td>\n",
       "    </tr>\n",
       "  </tbody>\n",
       "</table>\n",
       "</div>"
      ],
      "text/plain": [
       "   gender  claim_amount_in_$\n",
       "0  Female          3009815.5\n",
       "1    Male          3809462.5"
      ]
     },
     "execution_count": 127,
     "metadata": {},
     "output_type": "execute_result"
    }
   ],
   "source": [
    "\n",
    "male_female=claimscustomer[(claimscustomer.incident_cause.str.contains ('driver',case = False))].groupby('gender')['claim_amount_in_$'].sum().reset_index()\n",
    "male_female"
   ]
  },
  {
   "cell_type": "code",
   "execution_count": 128,
   "id": "3baade17-a56d-44f3-991f-73ea23744e07",
   "metadata": {},
   "outputs": [
    {
     "data": {
      "image/png": "[encoded data removed]",
      "text/plain": [
       "<Figure size 640x480 with 1 Axes>"
      ]
     },
     "metadata": {},
     "output_type": "display_data"
    }
   ],
   "source": [
    "import seaborn as sns\n",
    "sns.barplot(data=male_female,x='gender',y='claim_amount_in_$',color='skyblue')\n",
    "plt.title('which gender had claimed the most for any type of driver related issues\\n')\n",
    "plt.show()"
   ]
  },
  {
   "cell_type": "markdown",
   "id": "bc77129e-90a1-41e2-9c2b-ea10281b6bf3",
   "metadata": {},
   "source": [
    "#### Hence,Among males and females,'Male' claimed the most for any type of driver related issues"
   ]
  },
  {
   "cell_type": "code",
   "execution_count": null,
   "id": "eba0fe7a-cfcd-438e-8f20-c01ae2bdca2c",
   "metadata": {},
   "outputs": [],
   "source": []
  },
  {
   "cell_type": "markdown",
   "id": "f98799ea-1cc1-488a-b229-c3b85015dbc1",
   "metadata": {},
   "source": [
    "### 13. Which age group had the maximum fraudulent policy claims? Visualize it on a bar chart"
   ]
  },
  {
   "cell_type": "code",
   "execution_count": 129,
   "id": "2c185cf3-1b03-422f-b233-d0ee2c33c0f3",
   "metadata": {},
   "outputs": [
    {
     "data": {
      "image/png": "[encoded data removed]",
      "text/plain": [
       "<Figure size 640x480 with 1 Axes>"
      ]
     },
     "metadata": {},
     "output_type": "display_data"
    }
   ],
   "source": [
    "fraudulent=claimscustomer[(claimscustomer.fraudulent.str.contains('Yes'))].groupby('Age_cat').count().fraudulent\n",
    "fraudulent.plot(kind='bar')\n",
    "plt.title('Age_cat wise maximum fraudulent policy claims')\n",
    "plt.show()"
   ]
  },
  {
   "cell_type": "markdown",
   "id": "e111cabf-58e9-4ec6-a12f-2a6752eb6b46",
   "metadata": {},
   "source": [
    "#### Hence,Age_cat wise maximum fraudulent policy claimed by Adults"
   ]
  },
  {
   "cell_type": "code",
   "execution_count": null,
   "id": "28c69c04-3c9d-4f55-a59d-a162031d8fa7",
   "metadata": {},
   "outputs": [],
   "source": []
  },
  {
   "cell_type": "markdown",
   "id": "eee41c34-f2e7-4041-a917-15de33d8b8d3",
   "metadata": {},
   "source": [
    "### 14. Visualize the monthly trend of the total amount that has been claimed by the customers. Ensure that on the “month” axis, the month is in a chronological order not alphabetical order."
   ]
  },
  {
   "cell_type": "code",
   "execution_count": 130,
   "id": "4ad3f918-f56f-4603-ba8f-c33418efa34b",
   "metadata": {},
   "outputs": [],
   "source": [
    "claimscustomer['claim_month']=claimscustomer['claim_date'].dropna().apply(lambda x: pd.Timestamp.strftime(x,format=\"%B\"))"
   ]
  },
  {
   "cell_type": "code",
   "execution_count": 131,
   "id": "552e8c53-fd7a-4b6a-9d79-98bce1338509",
   "metadata": {},
   "outputs": [
    {
     "data": {
      "text/html": [
       "<div>\n",
       "<style scoped>\n",
       "    .dataframe tbody tr th:only-of-type {\n",
       "        vertical-align: middle;\n",
       "    }\n",
       "\n",
       "    .dataframe tbody tr th {\n",
       "        vertical-align: top;\n",
       "    }\n",
       "\n",
       "    .dataframe thead th {\n",
       "        text-align: right;\n",
       "    }\n",
       "</style>\n",
       "<table border=\"1\" class=\"dataframe\">\n",
       "  <thead>\n",
       "    <tr style=\"text-align: right;\">\n",
       "      <th></th>\n",
       "      <th>claim_month</th>\n",
       "      <th>claim_amount_in_$</th>\n",
       "    </tr>\n",
       "  </thead>\n",
       "  <tbody>\n",
       "    <tr>\n",
       "      <th>0</th>\n",
       "      <td>January</td>\n",
       "      <td>1258838.0</td>\n",
       "    </tr>\n",
       "    <tr>\n",
       "      <th>1</th>\n",
       "      <td>February</td>\n",
       "      <td>1125496.0</td>\n",
       "    </tr>\n",
       "    <tr>\n",
       "      <th>2</th>\n",
       "      <td>March</td>\n",
       "      <td>1271442.0</td>\n",
       "    </tr>\n",
       "    <tr>\n",
       "      <th>3</th>\n",
       "      <td>April</td>\n",
       "      <td>1272990.0</td>\n",
       "    </tr>\n",
       "    <tr>\n",
       "      <th>4</th>\n",
       "      <td>May</td>\n",
       "      <td>1036368.0</td>\n",
       "    </tr>\n",
       "    <tr>\n",
       "      <th>5</th>\n",
       "      <td>June</td>\n",
       "      <td>1220460.0</td>\n",
       "    </tr>\n",
       "    <tr>\n",
       "      <th>6</th>\n",
       "      <td>July</td>\n",
       "      <td>1291460.0</td>\n",
       "    </tr>\n",
       "    <tr>\n",
       "      <th>7</th>\n",
       "      <td>August</td>\n",
       "      <td>882012.0</td>\n",
       "    </tr>\n",
       "    <tr>\n",
       "      <th>8</th>\n",
       "      <td>September</td>\n",
       "      <td>885583.0</td>\n",
       "    </tr>\n",
       "    <tr>\n",
       "      <th>9</th>\n",
       "      <td>October</td>\n",
       "      <td>1331545.0</td>\n",
       "    </tr>\n",
       "    <tr>\n",
       "      <th>10</th>\n",
       "      <td>November</td>\n",
       "      <td>581664.0</td>\n",
       "    </tr>\n",
       "    <tr>\n",
       "      <th>11</th>\n",
       "      <td>December</td>\n",
       "      <td>684491.0</td>\n",
       "    </tr>\n",
       "  </tbody>\n",
       "</table>\n",
       "</div>"
      ],
      "text/plain": [
       "   claim_month  claim_amount_in_$\n",
       "0      January          1258838.0\n",
       "1     February          1125496.0\n",
       "2        March          1271442.0\n",
       "3        April          1272990.0\n",
       "4          May          1036368.0\n",
       "5         June          1220460.0\n",
       "6         July          1291460.0\n",
       "7       August           882012.0\n",
       "8    September           885583.0\n",
       "9      October          1331545.0\n",
       "10    November           581664.0\n",
       "11    December           684491.0"
      ]
     },
     "execution_count": 131,
     "metadata": {},
     "output_type": "execute_result"
    }
   ],
   "source": [
    "claim_by_month=claimscustomer.groupby('claim_month')[['claim_amount_in_$']].sum().reset_index().round()\n",
    "claim_by_month\n",
    "\n",
    "sort_ref= ['January','February','March','April','May','June','July','August','September','October','November','December']\n",
    "claim_by_month.index= pd.CategoricalIndex(claim_by_month['claim_month'],categories=sort_ref, ordered=True)\n",
    "claim_by_month=claim_by_month.sort_index().reset_index(drop=True)\n",
    "claim_by_month"
   ]
  },
  {
   "cell_type": "code",
   "execution_count": 132,
   "id": "1d8d140a-0351-4bca-a340-e9fef36fc6ed",
   "metadata": {},
   "outputs": [
    {
     "data": {
      "text/plain": [
       "<Figure size 1500x1500 with 0 Axes>"
      ]
     },
     "metadata": {},
     "output_type": "display_data"
    },
    {
     "data": {
      "image/png": "[encoded data removed]",
      "text/plain": [
       "<Figure size 640x480 with 1 Axes>"
      ]
     },
     "metadata": {},
     "output_type": "display_data"
    }
   ],
   "source": [
    "plt.figure(figsize=(15,15))\n",
    "claim_by_month.plot(kind='bar',x='claim_month',y='claim_amount_in_$',color='purple')\n",
    "plt.title('Monthly trend of the total amount that has been claimed by the customers')\n",
    "plt.show()"
   ]
  },
  {
   "cell_type": "code",
   "execution_count": null,
   "id": "bc5d2642-2a4d-4a1c-8924-a916a6daed9d",
   "metadata": {},
   "outputs": [],
   "source": []
  },
  {
   "cell_type": "markdown",
   "id": "74f1e50b-9278-419f-a91c-62db5d622fe7",
   "metadata": {},
   "source": [
    "### 15. What is the average claim amount for gender and age categories and suitably represent the above using a facetted bar chart, one facet that represents fraudulent claims and the other for non-fraudulent claims"
   ]
  },
  {
   "cell_type": "code",
   "execution_count": 133,
   "id": "8b2ed4d1-503a-4fd5-87fb-9e692412a1dd",
   "metadata": {},
   "outputs": [
    {
     "data": {
      "text/html": [
       "<div>\n",
       "<style scoped>\n",
       "    .dataframe tbody tr th:only-of-type {\n",
       "        vertical-align: middle;\n",
       "    }\n",
       "\n",
       "    .dataframe tbody tr th {\n",
       "        vertical-align: top;\n",
       "    }\n",
       "\n",
       "    .dataframe thead th {\n",
       "        text-align: right;\n",
       "    }\n",
       "</style>\n",
       "<table border=\"1\" class=\"dataframe\">\n",
       "  <thead>\n",
       "    <tr style=\"text-align: right;\">\n",
       "      <th></th>\n",
       "      <th>Customer_Id</th>\n",
       "      <th>gender</th>\n",
       "      <th>DateOfBirth</th>\n",
       "      <th>State</th>\n",
       "      <th>Contact</th>\n",
       "      <th>Segment</th>\n",
       "      <th>claim_id</th>\n",
       "      <th>incident_cause</th>\n",
       "      <th>claim_date</th>\n",
       "      <th>claim_area</th>\n",
       "      <th>police_report</th>\n",
       "      <th>claim_type</th>\n",
       "      <th>claim_amount_in_$</th>\n",
       "      <th>total_policy_claims</th>\n",
       "      <th>fraudulent</th>\n",
       "      <th>alert_flag</th>\n",
       "      <th>Age</th>\n",
       "      <th>Age_cat</th>\n",
       "      <th>claim_month</th>\n",
       "    </tr>\n",
       "  </thead>\n",
       "  <tbody>\n",
       "    <tr>\n",
       "      <th>0</th>\n",
       "      <td>93915431</td>\n",
       "      <td>Male</td>\n",
       "      <td>1967-09-08</td>\n",
       "      <td>ME</td>\n",
       "      <td>134-785-1687</td>\n",
       "      <td>Gold</td>\n",
       "      <td>99775483</td>\n",
       "      <td>Other causes</td>\n",
       "      <td>2018-10-30</td>\n",
       "      <td>Auto</td>\n",
       "      <td>No</td>\n",
       "      <td>Material and injury</td>\n",
       "      <td>42124.5</td>\n",
       "      <td>1.0</td>\n",
       "      <td>Yes</td>\n",
       "      <td>1</td>\n",
       "      <td>56</td>\n",
       "      <td>Adult</td>\n",
       "      <td>October</td>\n",
       "    </tr>\n",
       "  </tbody>\n",
       "</table>\n",
       "</div>"
      ],
      "text/plain": [
       "   Customer_Id gender DateOfBirth State       Contact Segment  claim_id  \\\n",
       "0     93915431   Male  1967-09-08    ME  134-785-1687    Gold  99775483   \n",
       "\n",
       "  incident_cause claim_date claim_area police_report           claim_type  \\\n",
       "0   Other causes 2018-10-30       Auto            No  Material and injury   \n",
       "\n",
       "   claim_amount_in_$  total_policy_claims fraudulent  alert_flag  Age Age_cat  \\\n",
       "0            42124.5                  1.0        Yes           1   56   Adult   \n",
       "\n",
       "  claim_month  \n",
       "0     October  "
      ]
     },
     "execution_count": 133,
     "metadata": {},
     "output_type": "execute_result"
    }
   ],
   "source": [
    "claimscustomer.head(1)"
   ]
  },
  {
   "cell_type": "code",
   "execution_count": 134,
   "id": "fba9e4ba-309c-4a1d-a006-cbbf90308413",
   "metadata": {},
   "outputs": [
    {
     "data": {
      "text/html": [
       "<div>\n",
       "<style scoped>\n",
       "    .dataframe tbody tr th:only-of-type {\n",
       "        vertical-align: middle;\n",
       "    }\n",
       "\n",
       "    .dataframe tbody tr th {\n",
       "        vertical-align: top;\n",
       "    }\n",
       "\n",
       "    .dataframe thead th {\n",
       "        text-align: right;\n",
       "    }\n",
       "</style>\n",
       "<table border=\"1\" class=\"dataframe\">\n",
       "  <thead>\n",
       "    <tr style=\"text-align: right;\">\n",
       "      <th></th>\n",
       "      <th>gender</th>\n",
       "      <th>Age_cat</th>\n",
       "      <th>fraudulent</th>\n",
       "      <th>claim_amount_in_$</th>\n",
       "    </tr>\n",
       "  </thead>\n",
       "  <tbody>\n",
       "    <tr>\n",
       "      <th>0</th>\n",
       "      <td>Female</td>\n",
       "      <td>Adult</td>\n",
       "      <td>No</td>\n",
       "      <td>11943.0</td>\n",
       "    </tr>\n",
       "    <tr>\n",
       "      <th>1</th>\n",
       "      <td>Female</td>\n",
       "      <td>Adult</td>\n",
       "      <td>Yes</td>\n",
       "      <td>11880.0</td>\n",
       "    </tr>\n",
       "    <tr>\n",
       "      <th>2</th>\n",
       "      <td>Female</td>\n",
       "      <td>Senior</td>\n",
       "      <td>No</td>\n",
       "      <td>11323.0</td>\n",
       "    </tr>\n",
       "    <tr>\n",
       "      <th>3</th>\n",
       "      <td>Female</td>\n",
       "      <td>Senior</td>\n",
       "      <td>Yes</td>\n",
       "      <td>3636.0</td>\n",
       "    </tr>\n",
       "    <tr>\n",
       "      <th>4</th>\n",
       "      <td>Female</td>\n",
       "      <td>Youth</td>\n",
       "      <td>No</td>\n",
       "      <td>12145.0</td>\n",
       "    </tr>\n",
       "    <tr>\n",
       "      <th>5</th>\n",
       "      <td>Female</td>\n",
       "      <td>Youth</td>\n",
       "      <td>Yes</td>\n",
       "      <td>7925.0</td>\n",
       "    </tr>\n",
       "    <tr>\n",
       "      <th>6</th>\n",
       "      <td>Male</td>\n",
       "      <td>Adult</td>\n",
       "      <td>No</td>\n",
       "      <td>11596.0</td>\n",
       "    </tr>\n",
       "    <tr>\n",
       "      <th>7</th>\n",
       "      <td>Male</td>\n",
       "      <td>Adult</td>\n",
       "      <td>Yes</td>\n",
       "      <td>14885.0</td>\n",
       "    </tr>\n",
       "    <tr>\n",
       "      <th>8</th>\n",
       "      <td>Male</td>\n",
       "      <td>Senior</td>\n",
       "      <td>No</td>\n",
       "      <td>12423.0</td>\n",
       "    </tr>\n",
       "    <tr>\n",
       "      <th>9</th>\n",
       "      <td>Male</td>\n",
       "      <td>Senior</td>\n",
       "      <td>Yes</td>\n",
       "      <td>19463.0</td>\n",
       "    </tr>\n",
       "    <tr>\n",
       "      <th>10</th>\n",
       "      <td>Male</td>\n",
       "      <td>Youth</td>\n",
       "      <td>No</td>\n",
       "      <td>11684.0</td>\n",
       "    </tr>\n",
       "    <tr>\n",
       "      <th>11</th>\n",
       "      <td>Male</td>\n",
       "      <td>Youth</td>\n",
       "      <td>Yes</td>\n",
       "      <td>7906.0</td>\n",
       "    </tr>\n",
       "  </tbody>\n",
       "</table>\n",
       "</div>"
      ],
      "text/plain": [
       "    gender Age_cat fraudulent  claim_amount_in_$\n",
       "0   Female   Adult         No            11943.0\n",
       "1   Female   Adult        Yes            11880.0\n",
       "2   Female  Senior         No            11323.0\n",
       "3   Female  Senior        Yes             3636.0\n",
       "4   Female   Youth         No            12145.0\n",
       "5   Female   Youth        Yes             7925.0\n",
       "6     Male   Adult         No            11596.0\n",
       "7     Male   Adult        Yes            14885.0\n",
       "8     Male  Senior         No            12423.0\n",
       "9     Male  Senior        Yes            19463.0\n",
       "10    Male   Youth         No            11684.0\n",
       "11    Male   Youth        Yes             7906.0"
      ]
     },
     "execution_count": 134,
     "metadata": {},
     "output_type": "execute_result"
    }
   ],
   "source": [
    "avg_claims_amt=round(claimscustomer.groupby(['gender','Age_cat','fraudulent'])['claim_amount_in_$'].mean().reset_index())\n",
    "avg_claims_amt"
   ]
  },
  {
   "cell_type": "code",
   "execution_count": 135,
   "id": "ae0e547a-848c-4f2b-b3bf-0b667d810915",
   "metadata": {},
   "outputs": [
    {
     "data": {
      "text/plain": [
       "<seaborn.axisgrid.FacetGrid at 0x19eef37a030>"
      ]
     },
     "execution_count": 135,
     "metadata": {},
     "output_type": "execute_result"
    },
    {
     "data": {
      "image/png": "[encoded data removed]",
      "text/plain": [
       "<Figure size 600x600 with 4 Axes>"
      ]
     },
     "metadata": {},
     "output_type": "display_data"
    }
   ],
   "source": [
    "g = sns.FacetGrid(avg_claims_amt, row=\"fraudulent\", col=\"gender\")\n",
    "g.map_dataframe(sns.barplot, \"claim_amount_in_$\",\"Age_cat\")"
   ]
  },
  {
   "cell_type": "code",
   "execution_count": 136,
   "id": "61253e95-6c53-4b7e-91ad-ca67eb1f3e12",
   "metadata": {},
   "outputs": [
    {
     "data": {
      "image/png": "[encoded data removed]",
      "text/plain": [
       "<Figure size 1000x1000 with 2 Axes>"
      ]
     },
     "metadata": {},
     "output_type": "display_data"
    }
   ],
   "source": [
    "fraud_amt=(claimscustomer[(claimscustomer.fraudulent==\"Yes\")].groupby([\"gender\",\"Age_cat\"])[[\"claim_amount_in_$\"]].mean().add_prefix(\"Fraud_\"))\n",
    "non_fraud_amt=(claimscustomer[(claimscustomer.fraudulent==\"No\")].groupby([\"gender\",\"Age_cat\"])[[\"claim_amount_in_$\"]].mean().add_prefix(\"Non_Fraud_\"))\n",
    "Claims_age_gender=round(pd.merge(fraud_amt,non_fraud_amt, on=[\"gender\",\"Age_cat\"]),2)\n",
    "Claims_age_gender\n",
    "\n",
    "Claims_age_gender.plot(kind=\"bar\", subplots= True, legend= True,figsize=(10,10))\n",
    "plt.show()"
   ]
  },
  {
   "cell_type": "code",
   "execution_count": null,
   "id": "b1238250-7100-4030-977d-2539bc9b0af1",
   "metadata": {},
   "outputs": [],
   "source": []
  },
  {
   "cell_type": "markdown",
   "id": "ecfb770a-d67d-490c-acbc-714da8a607b2",
   "metadata": {},
   "source": [
    "## Statistics Questions"
   ]
  },
  {
   "cell_type": "markdown",
   "id": "0d7e0fba-99f0-4124-b39f-5dfe3588349d",
   "metadata": {},
   "source": [
    "### 16. Is there any similarity in the amount claimed by males and females?"
   ]
  },
  {
   "cell_type": "markdown",
   "id": "5605f18f-c931-4c24-bac6-8d78a7987587",
   "metadata": {},
   "source": [
    "### Null hypothesis and Alternate hypothesis are as below\n",
    "\n",
    "\n",
    "#### Null Hypothesis (H₀): The mean amount claimed by males is not equal to the mean amount claimed by females.\n",
    "### Ho:m1=m2\n",
    "\n",
    "#### Alternative Hypothesis (Hₐ): The mean amount claimed by males is  equal to the mean amount claimed by females.\n",
    "### Ho:m1!=m2\n",
    "\n",
    "\n",
    "### *Confidence level is = 95%*\n",
    "\n",
    "\n",
    "### *Significant level is (100-95=5%)*\n",
    "\n",
    "#### *The significance level is 5% (0.05)*\n",
    "\n",
    "\n",
    "### *P-critical = 0.05%*"
   ]
  },
  {
   "cell_type": "markdown",
   "id": "17c15bc8-a5db-4b7d-8451-0044a4dd5304",
   "metadata": {},
   "source": [
    "#### data set`s "
   ]
  },
  {
   "cell_type": "code",
   "execution_count": 137,
   "id": "c045ab62-f8ef-4152-a985-add78d3b8df6",
   "metadata": {},
   "outputs": [
    {
     "data": {
      "text/plain": [
       "0       42124.5\n",
       "2        2420.0\n",
       "3        1830.0\n",
       "7        2740.0\n",
       "8        2290.0\n",
       "         ...   \n",
       "1067    19120.0\n",
       "1068    37290.0\n",
       "1069     2967.0\n",
       "1071    20310.0\n",
       "1076     2080.0\n",
       "Name: claim_amount_in_$, Length: 551, dtype: float64"
      ]
     },
     "execution_count": 137,
     "metadata": {},
     "output_type": "execute_result"
    }
   ],
   "source": [
    "male_claims_amt=claimscustomer.loc[claimscustomer.gender=='Male']['claim_amount_in_$']\n",
    "male_claims_amt"
   ]
  },
  {
   "cell_type": "code",
   "execution_count": 138,
   "id": "6da2cd50-5ab1-493d-a392-1443737c23f8",
   "metadata": {},
   "outputs": [
    {
     "data": {
      "text/plain": [
       "1        1940.0\n",
       "4        2740.0\n",
       "5       17020.0\n",
       "6       26310.0\n",
       "9        1860.0\n",
       "         ...   \n",
       "1072     2900.0\n",
       "1073    20200.0\n",
       "1074    27670.0\n",
       "1075    17290.0\n",
       "1077    30930.0\n",
       "Name: claim_amount_in_$, Length: 527, dtype: float64"
      ]
     },
     "execution_count": 138,
     "metadata": {},
     "output_type": "execute_result"
    }
   ],
   "source": [
    "female_claims_amt=claimscustomer[claimscustomer.gender=='Female']['claim_amount_in_$']\n",
    "female_claims_amt"
   ]
  },
  {
   "cell_type": "markdown",
   "id": "4d0eb3a7-e1ed-4202-9745-241a9bd8cd41",
   "metadata": {},
   "source": [
    "#### These are independent samples. hence we will perform the two tail t-test for independed sample"
   ]
  },
  {
   "cell_type": "code",
   "execution_count": 139,
   "id": "0b988c8b-ad23-42f0-94f5-196ea33dfeec",
   "metadata": {},
   "outputs": [
    {
     "name": "stdout",
     "output_type": "stream",
     "text": [
      "The avg amt claimed by female is:\n"
     ]
    },
    {
     "data": {
      "text/plain": [
       "11563.987666034156"
      ]
     },
     "execution_count": 139,
     "metadata": {},
     "output_type": "execute_result"
    }
   ],
   "source": [
    "print('The avg amt claimed by female is:')\n",
    "female_claims_amt.mean()"
   ]
  },
  {
   "cell_type": "code",
   "execution_count": 140,
   "id": "f5d8e569-590d-4560-8a3a-1de335ca90bd",
   "metadata": {},
   "outputs": [
    {
     "name": "stdout",
     "output_type": "stream",
     "text": [
      "The avg amt claimed by male is:\n"
     ]
    },
    {
     "data": {
      "text/plain": [
       "12247.055353901997"
      ]
     },
     "execution_count": 140,
     "metadata": {},
     "output_type": "execute_result"
    }
   ],
   "source": [
    "print('The avg amt claimed by male is:')\n",
    "male_claims_amt.mean()"
   ]
  },
  {
   "cell_type": "markdown",
   "id": "eeacfe2a-b9b4-41c3-9b00-db6167a27490",
   "metadata": {},
   "source": [
    "### Conducting the test"
   ]
  },
  {
   "cell_type": "code",
   "execution_count": 141,
   "id": "6b5e7de7-5bdc-45f0-b6cb-a88aa9b10e95",
   "metadata": {},
   "outputs": [],
   "source": [
    "import scipy.stats as stats"
   ]
  },
  {
   "cell_type": "code",
   "execution_count": 142,
   "id": "ddc01e18-29c2-4515-9a44-8921e602c296",
   "metadata": {},
   "outputs": [
    {
     "data": {
      "text/plain": [
       "TtestResult(statistic=0.8264252658756743, pvalue=0.4087461087025911, df=1076.0)"
      ]
     },
     "execution_count": 142,
     "metadata": {},
     "output_type": "execute_result"
    }
   ],
   "source": [
    "test=stats.ttest_ind(male_claims_amt,female_claims_amt)\n",
    "test"
   ]
  },
  {
   "cell_type": "markdown",
   "id": "300457fc-eeb4-4c67-b2fc-5388f1f837e2",
   "metadata": {},
   "source": [
    "#### Comparing p-value with p-critical"
   ]
  },
  {
   "cell_type": "code",
   "execution_count": 272,
   "id": "253c7692-8e1c-489c-8ee9-b5e52bdbbace",
   "metadata": {},
   "outputs": [
    {
     "name": "stdout",
     "output_type": "stream",
     "text": [
      "We failed to reject null hypothesis\n",
      " Conclusion: The mean amount claimed by males is not equal to the mean amount claimed by females\n"
     ]
    }
   ],
   "source": [
    "p=test.pvalue\n",
    "if p<0.05:\n",
    "    print('We reject null hypothesis\\n Conclusion: The mean amount claimed by males is equal to the mean amount claimed by females')\n",
    "else:\n",
    "    print('We failed to reject null hypothesis\\n Conclusion: The mean amount claimed by males is not equal to the mean amount claimed by females')"
   ]
  },
  {
   "cell_type": "code",
   "execution_count": null,
   "id": "8da0dc2e-6930-452b-866f-47db8d6cbb2a",
   "metadata": {},
   "outputs": [],
   "source": []
  },
  {
   "cell_type": "code",
   "execution_count": null,
   "id": "c9c08cb9-0775-4e5a-b365-e10e4658f549",
   "metadata": {},
   "outputs": [],
   "source": []
  },
  {
   "cell_type": "markdown",
   "id": "b1ce5563-3b34-4bc8-affa-d3adf5c4d30b",
   "metadata": {},
   "source": [
    "### 17. Is there any relationship between age category and segment?"
   ]
  },
  {
   "cell_type": "markdown",
   "id": "0a25c226-05a4-4e00-b018-2f4d6dd05690",
   "metadata": {},
   "source": [
    "### Null hypothesis and Alternate hypothesis are as below\n",
    "\n",
    "\n",
    "#### Null Hypothesis (H₀): There is no relationship between age category and segment\n",
    "### Ho:m1!=m2\n",
    "\n",
    "#### Alternative Hypothesis (Hₐ): There is  relationship between age category and segment\n",
    "### Ho:m1=m2\n",
    "\n",
    "\n",
    "### *Confidence level is = 95%*\n",
    "\n",
    "\n",
    "### *Significant level is (100-95=5%)*\n",
    "\n",
    "#### *The significance level is 5% (0.05)*\n",
    "\n",
    "\n",
    "### *P-critical = 0.05%*"
   ]
  },
  {
   "cell_type": "markdown",
   "id": "7dd06d3d-c477-49dc-b06f-99514df6469a",
   "metadata": {},
   "source": [
    "### data set1s"
   ]
  },
  {
   "cell_type": "code",
   "execution_count": 213,
   "id": "ba9c4248-d0ec-46ae-9915-1a9ec772122f",
   "metadata": {},
   "outputs": [
    {
     "data": {
      "text/html": [
       "<div>\n",
       "<style scoped>\n",
       "    .dataframe tbody tr th:only-of-type {\n",
       "        vertical-align: middle;\n",
       "    }\n",
       "\n",
       "    .dataframe tbody tr th {\n",
       "        vertical-align: top;\n",
       "    }\n",
       "\n",
       "    .dataframe thead th {\n",
       "        text-align: right;\n",
       "    }\n",
       "</style>\n",
       "<table border=\"1\" class=\"dataframe\">\n",
       "  <thead>\n",
       "    <tr style=\"text-align: right;\">\n",
       "      <th>Segment</th>\n",
       "      <th>Gold</th>\n",
       "      <th>Platinum</th>\n",
       "      <th>Silver</th>\n",
       "    </tr>\n",
       "    <tr>\n",
       "      <th>Age_cat</th>\n",
       "      <th></th>\n",
       "      <th></th>\n",
       "      <th></th>\n",
       "    </tr>\n",
       "  </thead>\n",
       "  <tbody>\n",
       "    <tr>\n",
       "      <th>Adult</th>\n",
       "      <td>275</td>\n",
       "      <td>269</td>\n",
       "      <td>257</td>\n",
       "    </tr>\n",
       "    <tr>\n",
       "      <th>Senior</th>\n",
       "      <td>31</td>\n",
       "      <td>28</td>\n",
       "      <td>24</td>\n",
       "    </tr>\n",
       "    <tr>\n",
       "      <th>Youth</th>\n",
       "      <td>65</td>\n",
       "      <td>64</td>\n",
       "      <td>65</td>\n",
       "    </tr>\n",
       "  </tbody>\n",
       "</table>\n",
       "</div>"
      ],
      "text/plain": [
       "Segment  Gold  Platinum  Silver\n",
       "Age_cat                        \n",
       "Adult     275       269     257\n",
       "Senior     31        28      24\n",
       "Youth      65        64      65"
      ]
     },
     "execution_count": 213,
     "metadata": {},
     "output_type": "execute_result"
    }
   ],
   "source": [
    "age_cat_segment=pd.crosstab(index=claimscustomer['Age_cat'],columns=claimscustomer['Segment'])\n",
    "age_cat_segment"
   ]
  },
  {
   "cell_type": "markdown",
   "id": "c67f99a6-6f1f-42b4-9874-d53e32f84476",
   "metadata": {},
   "source": [
    "### These are two categorical variables. hence we will perform the Chi-Square test \n"
   ]
  },
  {
   "cell_type": "markdown",
   "id": "df0cab87-514f-4cc5-aadf-e4404d105f20",
   "metadata": {},
   "source": [
    "### Conducting test"
   ]
  },
  {
   "cell_type": "code",
   "execution_count": 242,
   "id": "c57eaef8-ffc9-4b16-bbb0-b18616cda904",
   "metadata": {},
   "outputs": [],
   "source": [
    "import scipy.stats as stats"
   ]
  },
  {
   "cell_type": "code",
   "execution_count": 236,
   "id": "e18d2dff-7720-4851-b9ff-c39c225992c8",
   "metadata": {},
   "outputs": [
    {
     "data": {
      "text/plain": [
       "Chi2ContingencyResult(statistic=0.6555942802166145, pvalue=0.9566900117530635, dof=4, expected_freq=array([[275.66883117, 268.23840445, 257.09276438],\n",
       "       [ 28.56493506,  27.79499072,  26.64007421],\n",
       "       [ 66.76623377,  64.96660482,  62.26716141]]))"
      ]
     },
     "execution_count": 236,
     "metadata": {},
     "output_type": "execute_result"
    }
   ],
   "source": [
    "test1=stats.chi2_contingency(age_cat_segment)\n",
    "test1"
   ]
  },
  {
   "cell_type": "markdown",
   "id": "101af02c-9047-4b99-8595-8098141cc11c",
   "metadata": {},
   "source": [
    "### Comparing p-value with p-critical"
   ]
  },
  {
   "cell_type": "code",
   "execution_count": 270,
   "id": "28c8960e-aef7-4eae-a349-daacf39a9365",
   "metadata": {},
   "outputs": [
    {
     "name": "stdout",
     "output_type": "stream",
     "text": [
      "we failed to reject null hypothesis\n",
      " Conclusion:There is no relationship between age category and segment\n"
     ]
    }
   ],
   "source": [
    "p=test1.pvalue\n",
    "if p<0.05:\n",
    "    print('we reject null hypothesis\\n Conclusion: There is relationship between age category and segment')\n",
    "else:\n",
    "    print('we failed to reject null hypothesis\\n Conclusion:There is no relationship between age category and segment')"
   ]
  },
  {
   "cell_type": "code",
   "execution_count": null,
   "id": "d7c5f1cc-2d53-4c07-8463-9429943ff5ab",
   "metadata": {},
   "outputs": [],
   "source": []
  },
  {
   "cell_type": "code",
   "execution_count": null,
   "id": "6dd5e041-28f4-4de3-84b5-6883ec9adc97",
   "metadata": {},
   "outputs": [],
   "source": []
  },
  {
   "cell_type": "markdown",
   "id": "a586ef1b-1b99-4a84-b4b6-a0565f31e757",
   "metadata": {},
   "source": [
    "### 18. The current year has shown a significant rise in claim amounts as compared to 2016-17 fiscal average which was $10,000."
   ]
  },
  {
   "cell_type": "markdown",
   "id": "ff32fbf1-4b46-49aa-a4f7-282897b88916",
   "metadata": {},
   "source": [
    "### Null hypothesis and Alternate hypothesis are as below\n",
    "\n",
    "\n",
    "#### Null Hypothesis (H₀):  The mean claim amount in the current year is equal to the 2016-17 fiscal average of $10,000.\n",
    "### Ho:m=10000\n",
    "\n",
    "#### Alternative Hypothesis (Hₐ): The mean claim amount in the current year is greater than the 2016-17 fiscal average of $10,000.\n",
    "### Ho:m>10000\n",
    "\n",
    "\n",
    "### *Confidence level is = 95%*\n",
    "\n",
    "\n",
    "### *Significant level is (100-95=5%)*\n",
    "\n",
    "#### *The significance level is 5% (0.05)*\n",
    "\n",
    "\n",
    "### *P-critical = 0.05%*"
   ]
  },
  {
   "cell_type": "markdown",
   "id": "a9dcaf2c-b2e4-4535-84fa-4b076a872b35",
   "metadata": {},
   "source": [
    "#### data set`s"
   ]
  },
  {
   "cell_type": "code",
   "execution_count": 145,
   "id": "c1ee2b72-73e3-4a0e-adbf-2c2311f28a67",
   "metadata": {},
   "outputs": [],
   "source": [
    "claimscustomer['Claim_Year']=claimscustomer['claim_date'].dt.year"
   ]
  },
  {
   "cell_type": "code",
   "execution_count": 186,
   "id": "0953185c-5743-4e07-9d6c-cdaf7b9fc3de",
   "metadata": {},
   "outputs": [
    {
     "data": {
      "text/plain": [
       "0       2018\n",
       "1       2018\n",
       "2       2018\n",
       "3       2018\n",
       "4       2018\n",
       "        ... \n",
       "1073    2017\n",
       "1074    2017\n",
       "1075    2017\n",
       "1076    2017\n",
       "1077    2017\n",
       "Name: Claim_Year, Length: 1078, dtype: Int64"
      ]
     },
     "execution_count": 186,
     "metadata": {},
     "output_type": "execute_result"
    }
   ],
   "source": [
    "claimscustomer['Claim_Year'].astype('Int64')\n"
   ]
  },
  {
   "cell_type": "code",
   "execution_count": 205,
   "id": "ac7ad189-2b53-4f00-b314-45cb98bb320b",
   "metadata": {},
   "outputs": [
    {
     "data": {
      "text/html": [
       "<div>\n",
       "<style scoped>\n",
       "    .dataframe tbody tr th:only-of-type {\n",
       "        vertical-align: middle;\n",
       "    }\n",
       "\n",
       "    .dataframe tbody tr th {\n",
       "        vertical-align: top;\n",
       "    }\n",
       "\n",
       "    .dataframe thead th {\n",
       "        text-align: right;\n",
       "    }\n",
       "</style>\n",
       "<table border=\"1\" class=\"dataframe\">\n",
       "  <thead>\n",
       "    <tr style=\"text-align: right;\">\n",
       "      <th></th>\n",
       "      <th>claim_amount_in_$</th>\n",
       "    </tr>\n",
       "  </thead>\n",
       "  <tbody>\n",
       "    <tr>\n",
       "      <th>0</th>\n",
       "      <td>42124.5</td>\n",
       "    </tr>\n",
       "    <tr>\n",
       "      <th>1</th>\n",
       "      <td>1940.0</td>\n",
       "    </tr>\n",
       "    <tr>\n",
       "      <th>2</th>\n",
       "      <td>2420.0</td>\n",
       "    </tr>\n",
       "    <tr>\n",
       "      <th>3</th>\n",
       "      <td>1830.0</td>\n",
       "    </tr>\n",
       "    <tr>\n",
       "      <th>4</th>\n",
       "      <td>2740.0</td>\n",
       "    </tr>\n",
       "    <tr>\n",
       "      <th>...</th>\n",
       "      <td>...</td>\n",
       "    </tr>\n",
       "    <tr>\n",
       "      <th>480</th>\n",
       "      <td>2740.0</td>\n",
       "    </tr>\n",
       "    <tr>\n",
       "      <th>481</th>\n",
       "      <td>25030.0</td>\n",
       "    </tr>\n",
       "    <tr>\n",
       "      <th>482</th>\n",
       "      <td>44838.5</td>\n",
       "    </tr>\n",
       "    <tr>\n",
       "      <th>483</th>\n",
       "      <td>2240.0</td>\n",
       "    </tr>\n",
       "    <tr>\n",
       "      <th>484</th>\n",
       "      <td>2120.0</td>\n",
       "    </tr>\n",
       "  </tbody>\n",
       "</table>\n",
       "<p>485 rows × 1 columns</p>\n",
       "</div>"
      ],
      "text/plain": [
       "     claim_amount_in_$\n",
       "0              42124.5\n",
       "1               1940.0\n",
       "2               2420.0\n",
       "3               1830.0\n",
       "4               2740.0\n",
       "..                 ...\n",
       "480             2740.0\n",
       "481            25030.0\n",
       "482            44838.5\n",
       "483             2240.0\n",
       "484             2120.0\n",
       "\n",
       "[485 rows x 1 columns]"
      ]
     },
     "execution_count": 205,
     "metadata": {},
     "output_type": "execute_result"
    }
   ],
   "source": [
    "claims_amt=claimscustomer[claimscustomer.Claim_Year==2018][['claim_amount_in_$']]\n",
    "claims_amt"
   ]
  },
  {
   "cell_type": "markdown",
   "id": "2b08f907-9396-4755-a78c-ce1e3f94869f",
   "metadata": {},
   "source": [
    "### Conducting test"
   ]
  },
  {
   "cell_type": "code",
   "execution_count": 190,
   "id": "69390e73-930b-4078-86f9-beb68e8e0cc1",
   "metadata": {},
   "outputs": [],
   "source": [
    "import scipy.stats as stats"
   ]
  },
  {
   "cell_type": "code",
   "execution_count": 206,
   "id": "b2cd809d-235f-4b52-a2ef-df6519aed36d",
   "metadata": {},
   "outputs": [],
   "source": [
    "tests=stats.ttest_1samp(claims_amt,popmean=10000)"
   ]
  },
  {
   "cell_type": "code",
   "execution_count": 207,
   "id": "1c98a73b-e3bf-424d-9719-71b1b2ce0a72",
   "metadata": {},
   "outputs": [
    {
     "data": {
      "text/plain": [
       "TtestResult(statistic=array([3.30159658]), pvalue=array([0.00103243]), df=array([484]))"
      ]
     },
     "execution_count": 207,
     "metadata": {},
     "output_type": "execute_result"
    }
   ],
   "source": [
    "tests"
   ]
  },
  {
   "cell_type": "code",
   "execution_count": 268,
   "id": "c794050e-f26f-4ed8-9131-14feda48ea4b",
   "metadata": {},
   "outputs": [
    {
     "name": "stdout",
     "output_type": "stream",
     "text": [
      "We reject null hypothesis\n",
      " Conclusion : The mean claim amount in the current year is greater than the 2016-17 fiscal average of $10,000\n"
     ]
    }
   ],
   "source": [
    "p=tests.pvalue\n",
    "if p<0.05:\n",
    "    print('We reject null hypothesis\\n Conclusion : The mean claim amount in the current year is greater than the 2016-17 fiscal average of $10,000')\n",
    "else:\n",
    "    print('We failed to reject null hypothesis\\n Conclusion: The mean claim amount in the current year is equal to the 2016-17 fiscal average of $10,000')"
   ]
  },
  {
   "cell_type": "markdown",
   "id": "0301a4ac-f435-4aaa-a5a4-65a9820a161e",
   "metadata": {},
   "source": [
    "0"
   ]
  },
  {
   "cell_type": "code",
   "execution_count": null,
   "id": "20bad36a-719c-4f62-a65f-e79f495c3bb8",
   "metadata": {},
   "outputs": [],
   "source": []
  },
  {
   "cell_type": "markdown",
   "id": "f5582472-7219-42aa-aeab-60e8435e6739",
   "metadata": {},
   "source": [
    "### 19. Is there any difference between age groups and insurance claims?"
   ]
  },
  {
   "cell_type": "markdown",
   "id": "3bb69000-585c-45c1-8257-6615ada4c902",
   "metadata": {},
   "source": [
    "### Null hypothesis and Alternate hypothesis are as below\n",
    "\n",
    "\n",
    "#### Null Hypothesis (H₀): There is no difference in the mean insurance claims between different age groups.\n",
    "### Ho:m1=m2=m3\n",
    "\n",
    "#### Alternative Hypothesis (Hₐ): There is  difference in the mean insurance claims between different age groups.\n",
    "### Ho:m1!=m2!=m3\n",
    "\n",
    "\n",
    "### *Confidence level is = 95%*\n",
    "\n",
    "\n",
    "### *Significant level is (100-95=5%)*\n",
    "\n",
    "#### *The significance level is 5% (0.05)*\n",
    "\n",
    "\n",
    "### *P-critical = 0.05%*"
   ]
  },
  {
   "cell_type": "markdown",
   "id": "3c92248b-7f67-4728-b368-1ba4fc6ec681",
   "metadata": {},
   "source": [
    "### Data set`s"
   ]
  },
  {
   "cell_type": "code",
   "execution_count": 241,
   "id": "301ed55a-380a-424d-8f7e-6af98b2f7680",
   "metadata": {},
   "outputs": [
    {
     "data": {
      "text/html": [
       "<div>\n",
       "<style scoped>\n",
       "    .dataframe tbody tr th:only-of-type {\n",
       "        vertical-align: middle;\n",
       "    }\n",
       "\n",
       "    .dataframe tbody tr th {\n",
       "        vertical-align: top;\n",
       "    }\n",
       "\n",
       "    .dataframe thead th {\n",
       "        text-align: right;\n",
       "    }\n",
       "</style>\n",
       "<table border=\"1\" class=\"dataframe\">\n",
       "  <thead>\n",
       "    <tr style=\"text-align: right;\">\n",
       "      <th>Age_cat</th>\n",
       "      <th>Adult</th>\n",
       "      <th>Senior</th>\n",
       "      <th>Youth</th>\n",
       "    </tr>\n",
       "    <tr>\n",
       "      <th>claim_type</th>\n",
       "      <th></th>\n",
       "      <th></th>\n",
       "      <th></th>\n",
       "    </tr>\n",
       "  </thead>\n",
       "  <tbody>\n",
       "    <tr>\n",
       "      <th>Injury only</th>\n",
       "      <td>143</td>\n",
       "      <td>12</td>\n",
       "      <td>39</td>\n",
       "    </tr>\n",
       "    <tr>\n",
       "      <th>Material and injury</th>\n",
       "      <td>184</td>\n",
       "      <td>21</td>\n",
       "      <td>32</td>\n",
       "    </tr>\n",
       "    <tr>\n",
       "      <th>Material only</th>\n",
       "      <td>474</td>\n",
       "      <td>50</td>\n",
       "      <td>123</td>\n",
       "    </tr>\n",
       "  </tbody>\n",
       "</table>\n",
       "</div>"
      ],
      "text/plain": [
       "Age_cat              Adult  Senior  Youth\n",
       "claim_type                               \n",
       "Injury only            143      12     39\n",
       "Material and injury    184      21     32\n",
       "Material only          474      50    123"
      ]
     },
     "execution_count": 241,
     "metadata": {},
     "output_type": "execute_result"
    }
   ],
   "source": [
    "age_groups_insurance_claims=pd.crosstab(index=claimscustomer.claim_type,columns=claimscustomer.Age_cat)\n",
    "age_groups_insurance_claims"
   ]
  },
  {
   "cell_type": "markdown",
   "id": "50944428-a9b8-4ed2-9728-ac787836dfe0",
   "metadata": {},
   "source": [
    "### Conducting Test"
   ]
  },
  {
   "cell_type": "code",
   "execution_count": 243,
   "id": "880886ef-9a7b-44ca-8564-3498d3a0634e",
   "metadata": {},
   "outputs": [],
   "source": [
    "import scipy.stats as stats"
   ]
  },
  {
   "cell_type": "code",
   "execution_count": 245,
   "id": "4c0c4ac9-5f35-415e-b5a2-ece48af94b2a",
   "metadata": {},
   "outputs": [
    {
     "data": {
      "text/plain": [
       "Chi2ContingencyResult(statistic=4.9599249628354665, pvalue=0.29143421712727857, dof=4, expected_freq=array([[144.15027829,  14.93692022,  34.91280148],\n",
       "       [176.10111317,  18.24768089,  42.65120594],\n",
       "       [480.74860853,  49.81539889, 116.43599258]]))"
      ]
     },
     "execution_count": 245,
     "metadata": {},
     "output_type": "execute_result"
    }
   ],
   "source": [
    "test2=stats.chi2_contingency(age_groups_insurance_claims)\n",
    "test2"
   ]
  },
  {
   "cell_type": "code",
   "execution_count": 267,
   "id": "1ac5be9d-b30a-4563-a811-e10afcb7eb26",
   "metadata": {},
   "outputs": [
    {
     "name": "stdout",
     "output_type": "stream",
     "text": [
      "We reject null hypothesis\n",
      " Conclusion: There is difference in the mean insurance claims between different age groups\n"
     ]
    }
   ],
   "source": [
    "p=tests.pvalue\n",
    "if p<0.05:\n",
    "    print('We reject null hypothesis\\n Conclusion: There is difference in the mean insurance claims between different age groups')\n",
    "else:\n",
    "    print('We failed to reject null hypothesis\\n Conclusion: There is no difference in the mean insurance claims between different age groups')"
   ]
  },
  {
   "cell_type": "code",
   "execution_count": null,
   "id": "af29b352-d7ed-40db-bacc-885442ee4297",
   "metadata": {},
   "outputs": [],
   "source": []
  },
  {
   "cell_type": "code",
   "execution_count": null,
   "id": "773a36cb-9a33-42e9-9499-df87b680df57",
   "metadata": {},
   "outputs": [],
   "source": []
  },
  {
   "cell_type": "markdown",
   "id": "204ca78e-9b04-481e-b6ff-45e62335b717",
   "metadata": {},
   "source": [
    "### 20. Is there any relationship between total number of policy claims and the claimed amount?"
   ]
  },
  {
   "cell_type": "markdown",
   "id": "d6a21ae5-3dad-46ce-84f0-8f2d3bd49f8c",
   "metadata": {},
   "source": [
    "### Null hypothesis and Alternate hypothesis are as below\n",
    "\n",
    "\n",
    "#### Null Hypothesis (H₀): There is NO relationship between total number of policy claims and the claimed amount.\n",
    "### Ho:m1!=m2\n",
    "\n",
    "#### Alternative Hypothesis (Hₐ): There is relationship between total number of policy claims and the claimed amount.\n",
    "### Ho:m1=m2\n",
    "\n",
    "\n",
    "### *Confidence level is = 95%*\n",
    "\n",
    "\n",
    "### *Significant level is (100-95=5%)*\n",
    "\n",
    "#### *The significance level is 5% (0.05)*\n",
    "\n",
    "\n",
    "### *P-critical = 0.05%*"
   ]
  },
  {
   "cell_type": "markdown",
   "id": "e57eaf78-e9f3-4096-a213-81bbdd0beb89",
   "metadata": {},
   "source": [
    "### Data set`s"
   ]
  },
  {
   "cell_type": "code",
   "execution_count": 258,
   "id": "18cc51ac-2b36-426b-be56-f8e86354cc3a",
   "metadata": {},
   "outputs": [
    {
     "data": {
      "text/plain": [
       "0       42124.5\n",
       "1        1940.0\n",
       "2        2420.0\n",
       "3        1830.0\n",
       "4        2740.0\n",
       "         ...   \n",
       "1073    20200.0\n",
       "1074    27670.0\n",
       "1075    17290.0\n",
       "1076     2080.0\n",
       "1077    30930.0\n",
       "Name: claim_amount_in_$, Length: 1078, dtype: float64"
      ]
     },
     "execution_count": 258,
     "metadata": {},
     "output_type": "execute_result"
    }
   ],
   "source": [
    "amt=claimscustomer['claim_amount_in_$']\n",
    "amt"
   ]
  },
  {
   "cell_type": "code",
   "execution_count": 260,
   "id": "e4003ba6-97ac-47be-937d-a4bb9e3c92c5",
   "metadata": {},
   "outputs": [
    {
     "data": {
      "text/plain": [
       "0       1.0\n",
       "1       1.0\n",
       "2       1.0\n",
       "3       1.0\n",
       "4       2.0\n",
       "       ... \n",
       "1073    1.0\n",
       "1074    1.0\n",
       "1075    1.0\n",
       "1076    1.0\n",
       "1077    1.0\n",
       "Name: total_policy_claims, Length: 1078, dtype: float64"
      ]
     },
     "execution_count": 260,
     "metadata": {},
     "output_type": "execute_result"
    }
   ],
   "source": [
    "policys=claimscustomer['total_policy_claims']\n",
    "policys"
   ]
  },
  {
   "cell_type": "code",
   "execution_count": null,
   "id": "47bee2ad-1450-4aea-a1f0-8acf6f574476",
   "metadata": {},
   "outputs": [],
   "source": []
  },
  {
   "cell_type": "markdown",
   "id": "fcf6ef38-48d9-4686-a73e-988e0b4e4049",
   "metadata": {},
   "source": [
    "### Conducting test"
   ]
  },
  {
   "cell_type": "code",
   "execution_count": null,
   "id": "10c87510-17a7-481b-9c11-d005311bb6e2",
   "metadata": {},
   "outputs": [],
   "source": [
    "import scipy.stats as stats"
   ]
  },
  {
   "cell_type": "code",
   "execution_count": 262,
   "id": "fcee8463-7a90-49c2-b2c8-34b8ccf8f03d",
   "metadata": {},
   "outputs": [
    {
     "data": {
      "text/plain": [
       "PearsonRResult(statistic=-0.020011715687672252, pvalue=0.5116013291543016)"
      ]
     },
     "execution_count": 262,
     "metadata": {},
     "output_type": "execute_result"
    }
   ],
   "source": [
    "test3=stats.pearsonr(amt,policys)\n",
    "test3"
   ]
  },
  {
   "cell_type": "markdown",
   "id": "92da1820-2363-41f0-aee2-6d29bdcf4a0b",
   "metadata": {},
   "source": [
    "### Comparing p-value with p-critical"
   ]
  },
  {
   "cell_type": "code",
   "execution_count": 265,
   "id": "f596057c-b93c-463b-9859-d07730ef4234",
   "metadata": {},
   "outputs": [
    {
     "name": "stdout",
     "output_type": "stream",
     "text": [
      "we failed to reject null hypothesis\n",
      " Conclusion : There is NO relationship between total number of policy claims and the claimed amount\n"
     ]
    }
   ],
   "source": [
    "p=test3.pvalue\n",
    "if p<0.05:\n",
    "    print('we reject null hypothesis\\n There is relationship between total number of policy claims and the claimed amount')\n",
    "else:\n",
    "    print('we failed to reject null hypothesis\\n Conclusion : There is NO relationship between total number of policy claims and the claimed amount')"
   ]
  },
  {
   "cell_type": "code",
   "execution_count": null,
   "id": "0b1d0678-a68d-471d-9b3b-1663555838f9",
   "metadata": {},
   "outputs": [],
   "source": []
  },
  {
   "cell_type": "code",
   "execution_count": null,
   "id": "5c88d9ff-f013-4b60-9c37-be34cc24343a",
   "metadata": {},
   "outputs": [],
   "source": []
  },
  {
   "cell_type": "code",
   "execution_count": null,
   "id": "40028c68-80ad-4685-9e7a-6e212182e00a",
   "metadata": {},
   "outputs": [],
   "source": []
  },
  {
   "cell_type": "code",
   "execution_count": null,
   "id": "72e572cc-88b2-4fff-8556-3eff2d2c9c58",
   "metadata": {},
   "outputs": [],
   "source": []
  },
  {
   "cell_type": "code",
   "execution_count": null,
   "id": "d977b901-7a87-4cdf-ad6f-c5df3ab4d3d7",
   "metadata": {},
   "outputs": [],
   "source": []
  },
  {
   "cell_type": "code",
   "execution_count": null,
   "id": "2ac7a242-7366-4691-a1a9-ff2fb719f9ef",
   "metadata": {},
   "outputs": [],
   "source": []
  },
  {
   "cell_type": "code",
   "execution_count": null,
   "id": "87d3590e-73b6-4aef-a0e5-b0a6df4b397f",
   "metadata": {},
   "outputs": [],
   "source": []
  },
  {
   "cell_type": "code",
   "execution_count": null,
   "id": "73d86f07-80b6-4760-aa91-bce2eca094d6",
   "metadata": {},
   "outputs": [],
   "source": []
  },
  {
   "cell_type": "code",
   "execution_count": null,
   "id": "e9520b8e-d8c1-4fbd-8b42-b12be7fc34cf",
   "metadata": {},
   "outputs": [],
   "source": []
  },
  {
   "cell_type": "code",
   "execution_count": null,
   "id": "5e131e1c-1a37-4152-b7e9-99878e287b3b",
   "metadata": {},
   "outputs": [],
   "source": []
  },
  {
   "cell_type": "code",
   "execution_count": null,
   "id": "107408d7-08b1-4f9d-8401-4479af60c3f4",
   "metadata": {},
   "outputs": [],
   "source": []
  },
  {
   "cell_type": "code",
   "execution_count": null,
   "id": "7d90e1c7-c74e-439e-8a5f-0d954b10d44e",
   "metadata": {},
   "outputs": [],
   "source": []
  },
  {
   "cell_type": "code",
   "execution_count": null,
   "id": "747fad4f-fd6f-43f1-9d30-97c14484b0bc",
   "metadata": {},
   "outputs": [],
   "source": []
  },
  {
   "cell_type": "code",
   "execution_count": null,
   "id": "766ebdc0-42de-4a2a-8291-17ea82e87ee9",
   "metadata": {},
   "outputs": [],
   "source": []
  },
  {
   "cell_type": "code",
   "execution_count": null,
   "id": "47140e5f-856d-4c80-88d1-29a8c4adae02",
   "metadata": {},
   "outputs": [],
   "source": []
  },
  {
   "cell_type": "code",
   "execution_count": null,
   "id": "82b66f6c-95f3-427e-9709-b2f4b0020f03",
   "metadata": {},
   "outputs": [],
   "source": []
  }
 ],
 "metadata": {
  "kernelspec": {
   "display_name": "Python 3 (ipykernel)",
   "language": "python",
   "name": "python3"
  },
  "language_info": {
   "codemirror_mode": {
    "name": "ipython",
    "version": 3
   },
   "file_extension": ".py",
   "mimetype": "text/x-python",
   "name": "python",
   "nbconvert_exporter": "python",
   "pygments_lexer": "ipython3",
   "version": "3.12.3"
  }
 },
 "nbformat": 4,
 "nbformat_minor": 5
}
